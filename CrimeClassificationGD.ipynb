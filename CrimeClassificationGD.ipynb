{
 "cells": [
  {
   "cell_type": "code",
   "execution_count": 1,
   "metadata": {
    "collapsed": false
   },
   "outputs": [
    {
     "name": "stderr",
     "output_type": "stream",
     "text": [
      "/home/mercure/anaconda2/lib/python2.7/site-packages/matplotlib/font_manager.py:273: UserWarning: Matplotlib is building the font cache using fc-list. This may take a moment.\n",
      "  warnings.warn('Matplotlib is building the font cache using fc-list. This may take a moment.')\n"
     ]
    }
   ],
   "source": [
    "import pandas as pd\n",
    "import numpy as np\n",
    "from datetime import datetime\n",
    "from sklearn.cross_validation import train_test_split\n",
    "from sklearn.grid_search import GridSearchCV, RandomizedSearchCV\n",
    "import matplotlib.pylab as plt\n",
    "from sklearn.tree import DecisionTreeClassifier\n",
    "from sklearn import preprocessing\n",
    "from sklearn.metrics import log_loss\n",
    "from sklearn.metrics import make_scorer\n",
    "from sklearn.cross_validation import StratifiedShuffleSplit\n",
    "from sklearn.linear_model import LogisticRegression\n",
    "from matplotlib.colors import LogNorm\n",
    "from sklearn.decomposition import PCA\n",
    "from scipy.stats import randint as sp_randint\n",
    "from sklearn.ensemble import RandomForestClassifier\n",
    "from operator import itemgetter\n",
    "\n",
    "%matplotlib notebook \n",
    "%matplotlib inline"
   ]
  },
  {
   "cell_type": "code",
   "execution_count": 2,
   "metadata": {
    "collapsed": true
   },
   "outputs": [],
   "source": [
    "number_of_jobs = 4 "
   ]
  },
  {
   "cell_type": "code",
   "execution_count": 3,
   "metadata": {
    "collapsed": false
   },
   "outputs": [],
   "source": [
    "train_df = pd.read_csv(\"./Data/train.csv\", parse_dates=[\"Dates\"])\n",
    "test_df = pd.read_csv(\"./Data/test.csv\", parse_dates=[\"Dates\"])"
   ]
  },
  {
   "cell_type": "code",
   "execution_count": 4,
   "metadata": {
    "collapsed": false
   },
   "outputs": [
    {
     "name": "stdout",
     "output_type": "stream",
     "text": [
      "(878049, 9)\n",
      "(884262, 7)\n"
     ]
    }
   ],
   "source": [
    "print train_df.shape\n",
    "print test_df.shape"
   ]
  },
  {
   "cell_type": "code",
   "execution_count": 4,
   "metadata": {
    "collapsed": false
   },
   "outputs": [],
   "source": [
    "# Clean up wrong X and Y values (very few of them)\n",
    "\n",
    "def scale_coordinates(df):\n",
    "    xy_scaler = preprocessing.StandardScaler()\n",
    "    xy_scaler.fit(df[[\"X\",\"Y\"]])\n",
    "    df[[\"X\",\"Y\"]] = xy_scaler.transform(df[[\"X\",\"Y\"]])\n",
    "    scaled_df = df[abs(df[\"Y\"])<100]\n",
    "    scaled_df.index = range(len(scaled_df))\n",
    "    return scaled_df"
   ]
  },
  {
   "cell_type": "code",
   "execution_count": 5,
   "metadata": {
    "collapsed": true
   },
   "outputs": [],
   "source": [
    "train_df = scale_coordinates(train_df)"
   ]
  },
  {
   "cell_type": "code",
   "execution_count": 6,
   "metadata": {
    "collapsed": false
   },
   "outputs": [
    {
     "data": {
      "text/html": [
       "<div>\n",
       "<table border=\"1\" class=\"dataframe\">\n",
       "  <thead>\n",
       "    <tr style=\"text-align: right;\">\n",
       "      <th></th>\n",
       "      <th>Dates</th>\n",
       "      <th>Category</th>\n",
       "      <th>Descript</th>\n",
       "      <th>DayOfWeek</th>\n",
       "      <th>PdDistrict</th>\n",
       "      <th>Resolution</th>\n",
       "      <th>Address</th>\n",
       "      <th>X</th>\n",
       "      <th>Y</th>\n",
       "    </tr>\n",
       "  </thead>\n",
       "  <tbody>\n",
       "    <tr>\n",
       "      <th>0</th>\n",
       "      <td>2015-05-13 23:53:00</td>\n",
       "      <td>WARRANTS</td>\n",
       "      <td>WARRANT ARREST</td>\n",
       "      <td>Wednesday</td>\n",
       "      <td>NORTHERN</td>\n",
       "      <td>ARREST, BOOKED</td>\n",
       "      <td>OAK ST / LAGUNA ST</td>\n",
       "      <td>-0.107902</td>\n",
       "      <td>0.007832</td>\n",
       "    </tr>\n",
       "    <tr>\n",
       "      <th>1</th>\n",
       "      <td>2015-05-13 23:53:00</td>\n",
       "      <td>OTHER OFFENSES</td>\n",
       "      <td>TRAFFIC VIOLATION ARREST</td>\n",
       "      <td>Wednesday</td>\n",
       "      <td>NORTHERN</td>\n",
       "      <td>ARREST, BOOKED</td>\n",
       "      <td>OAK ST / LAGUNA ST</td>\n",
       "      <td>-0.107902</td>\n",
       "      <td>0.007832</td>\n",
       "    </tr>\n",
       "    <tr>\n",
       "      <th>2</th>\n",
       "      <td>2015-05-13 23:33:00</td>\n",
       "      <td>OTHER OFFENSES</td>\n",
       "      <td>TRAFFIC VIOLATION ARREST</td>\n",
       "      <td>Wednesday</td>\n",
       "      <td>NORTHERN</td>\n",
       "      <td>ARREST, BOOKED</td>\n",
       "      <td>VANNESS AV / GREENWICH ST</td>\n",
       "      <td>-0.057541</td>\n",
       "      <td>0.064335</td>\n",
       "    </tr>\n",
       "    <tr>\n",
       "      <th>3</th>\n",
       "      <td>2015-05-13 23:30:00</td>\n",
       "      <td>LARCENY/THEFT</td>\n",
       "      <td>GRAND THEFT FROM LOCKED AUTO</td>\n",
       "      <td>Wednesday</td>\n",
       "      <td>NORTHERN</td>\n",
       "      <td>NONE</td>\n",
       "      <td>1500 Block of LOMBARD ST</td>\n",
       "      <td>-0.144262</td>\n",
       "      <td>0.065338</td>\n",
       "    </tr>\n",
       "    <tr>\n",
       "      <th>4</th>\n",
       "      <td>2015-05-13 23:30:00</td>\n",
       "      <td>LARCENY/THEFT</td>\n",
       "      <td>GRAND THEFT FROM LOCKED AUTO</td>\n",
       "      <td>Wednesday</td>\n",
       "      <td>PARK</td>\n",
       "      <td>NONE</td>\n",
       "      <td>100 Block of BRODERICK ST</td>\n",
       "      <td>-0.531112</td>\n",
       "      <td>0.001140</td>\n",
       "    </tr>\n",
       "  </tbody>\n",
       "</table>\n",
       "</div>"
      ],
      "text/plain": [
       "                Dates        Category                      Descript  \\\n",
       "0 2015-05-13 23:53:00        WARRANTS                WARRANT ARREST   \n",
       "1 2015-05-13 23:53:00  OTHER OFFENSES      TRAFFIC VIOLATION ARREST   \n",
       "2 2015-05-13 23:33:00  OTHER OFFENSES      TRAFFIC VIOLATION ARREST   \n",
       "3 2015-05-13 23:30:00   LARCENY/THEFT  GRAND THEFT FROM LOCKED AUTO   \n",
       "4 2015-05-13 23:30:00   LARCENY/THEFT  GRAND THEFT FROM LOCKED AUTO   \n",
       "\n",
       "   DayOfWeek PdDistrict      Resolution                    Address         X  \\\n",
       "0  Wednesday   NORTHERN  ARREST, BOOKED         OAK ST / LAGUNA ST -0.107902   \n",
       "1  Wednesday   NORTHERN  ARREST, BOOKED         OAK ST / LAGUNA ST -0.107902   \n",
       "2  Wednesday   NORTHERN  ARREST, BOOKED  VANNESS AV / GREENWICH ST -0.057541   \n",
       "3  Wednesday   NORTHERN            NONE   1500 Block of LOMBARD ST -0.144262   \n",
       "4  Wednesday       PARK            NONE  100 Block of BRODERICK ST -0.531112   \n",
       "\n",
       "          Y  \n",
       "0  0.007832  \n",
       "1  0.007832  \n",
       "2  0.064335  \n",
       "3  0.065338  \n",
       "4  0.001140  "
      ]
     },
     "execution_count": 6,
     "metadata": {},
     "output_type": "execute_result"
    }
   ],
   "source": [
    "train_df.head()"
   ]
  },
  {
   "cell_type": "code",
   "execution_count": 7,
   "metadata": {
    "collapsed": false
   },
   "outputs": [
    {
     "data": {
      "image/png": "[encoded data removed]",
      "text/plain": [
       "<matplotlib.figure.Figure at 0x7fcc2f1429d0>"
      ]
     },
     "metadata": {},
     "output_type": "display_data"
    }
   ],
   "source": [
    "plt.figure()\n",
    "plt.plot(train_df[\"X\"],train_df[\"Y\"],'.')\n",
    "plt.show()"
   ]
  },
  {
   "cell_type": "code",
   "execution_count": 8,
   "metadata": {
    "collapsed": false
   },
   "outputs": [],
   "source": [
    "def features_scaling(df):\n",
    "    \n",
    "    df = scale_coordinates(df)\n",
    "    feature_list=df.columns.tolist()\n",
    "    \n",
    "    if \"Dates\" in feature_list:\n",
    "        df[\"year\"] = df[\"Dates\"].dt.year\n",
    "        df[\"month\"] = df[\"Dates\"].dt.month\n",
    "        #trainDF[\"day\"] = trainDF[\"Dates\"].dt.day\n",
    "        df[\"hour\"] = df[\"Dates\"].dt.hour\n",
    "        feature_list=df.columns.tolist()\n",
    "        feature_list.remove(\"Dates\")\n",
    "    if \"Category\" in feature_list:\n",
    "        labels = df[\"Category\"].astype('category')\n",
    "        feature_list.remove(\"Category\")\n",
    "    else:\n",
    "        labels=None\n",
    "    if \"Descript\" in feature_list:\n",
    "        feature_list.remove(\"Descript\")\n",
    "    if \"Resolution\" in feature_list:\n",
    "        feature_list.remove(\"Resolution\")\n",
    "    if \"Address\" in feature_list:\n",
    "        feature_list.remove(\"Address\")\n",
    "    if \"Id\" in feature_list:\n",
    "        feature_list.remove(\"Id\")\n",
    "    \n",
    "    \n",
    "    cleanData=df[feature_list]\n",
    "    cleanData.index=range(len(df))\n",
    "    \n",
    "    #print cleanData.columns.tolist()\n",
    "    \n",
    "    #Creating one-hot variables\n",
    "    dummy_ranks_PD = pd.get_dummies(cleanData['PdDistrict'], prefix='PD')\n",
    "    dummy_ranks_DAY = pd.get_dummies(cleanData[\"DayOfWeek\"], prefix='DAY')\n",
    "    \n",
    "    #Droping processed columns\n",
    "    cleanData=cleanData.drop(\"PdDistrict\",axis=1)\n",
    "    cleanData=cleanData.drop(\"DayOfWeek\",axis=1)\n",
    "    feature_list=cleanData.columns.tolist()\n",
    "    \n",
    "    #Joining one-hot features\n",
    "    features = cleanData[feature_list].join(dummy_ranks_PD.ix[:,:]).join(dummy_ranks_DAY.ix[:,:])\n",
    "    \n",
    "    return features, labels"
   ]
  },
  {
   "cell_type": "code",
   "execution_count": 9,
   "metadata": {
    "collapsed": false
   },
   "outputs": [],
   "source": [
    "# Extract year, month and hour\n",
    "\n",
    "#trainDF[\"year\"] = trainDF[\"Dates\"].dt.year\n",
    "#trainDF[\"month\"] = trainDF[\"Dates\"].dt.month\n",
    "#trainDF[\"day\"] = trainDF[\"Dates\"].dt.day\n",
    "#trainDF[\"hour\"] = trainDF[\"Dates\"].dt.hour\n",
    "#trainDF.head()"
   ]
  },
  {
   "cell_type": "code",
   "execution_count": 10,
   "metadata": {
    "collapsed": false
   },
   "outputs": [
    {
     "data": {
      "text/plain": [
       "'\\nfeature_list=trainDF.columns.tolist()\\nif \"Dates\" in feature_list:\\n    feature_list.remove(\"Dates\")\\nif \"Category\" in feature_list:\\n    feature_list.remove(\"Category\")\\nif \"Descript\" in feature_list:\\n    feature_list.remove(\"Descript\")\\nif \"Resolution\" in feature_list:\\n    feature_list.remove(\"Resolution\")\\nif \"Address\" in feature_list:\\n    feature_list.remove(\"Address\")\\nif \"Id\" in feature_list:\\n    feature_list.remove(\"Id\")\\ncleanData=trainDF[feature_list]\\ncleanData.index=range(len(trainDF))\\ncleanData.head()'"
      ]
     },
     "execution_count": 10,
     "metadata": {},
     "output_type": "execute_result"
    }
   ],
   "source": [
    "#Remove non feature columns\n",
    "'''\n",
    "feature_list=trainDF.columns.tolist()\n",
    "if \"Dates\" in feature_list:\n",
    "    feature_list.remove(\"Dates\")\n",
    "if \"Category\" in feature_list:\n",
    "    feature_list.remove(\"Category\")\n",
    "if \"Descript\" in feature_list:\n",
    "    feature_list.remove(\"Descript\")\n",
    "if \"Resolution\" in feature_list:\n",
    "    feature_list.remove(\"Resolution\")\n",
    "if \"Address\" in feature_list:\n",
    "    feature_list.remove(\"Address\")\n",
    "if \"Id\" in feature_list:\n",
    "    feature_list.remove(\"Id\")\n",
    "cleanData=trainDF[feature_list]\n",
    "cleanData.index=range(len(trainDF))\n",
    "cleanData.head()'''"
   ]
  },
  {
   "cell_type": "code",
   "execution_count": 11,
   "metadata": {
    "collapsed": false
   },
   "outputs": [
    {
     "data": {
      "text/plain": [
       "'dummy_ranks_PD = pd.get_dummies(cleanData[\\'PdDistrict\\'], prefix=\\'PD\\')\\ndummy_ranks_DAY = pd.get_dummies(cleanData[\"DayOfWeek\"], prefix=\\'DAY\\')\\n\\n#Droping processed columns\\ncleanData=cleanData.drop(\"PdDistrict\",axis=1)\\ncleanData=cleanData.drop(\"DayOfWeek\",axis=1)\\n#cleanData=cleanData.drop(\"Address\",axis=1)\\n#cleanData=cleanData.drop(\"Dates\",axis=1)\\nfeature_list=cleanData.columns.tolist()'"
      ]
     },
     "execution_count": 11,
     "metadata": {},
     "output_type": "execute_result"
    }
   ],
   "source": [
    "#Creating one-hot variables\n",
    "'''dummy_ranks_PD = pd.get_dummies(cleanData['PdDistrict'], prefix='PD')\n",
    "dummy_ranks_DAY = pd.get_dummies(cleanData[\"DayOfWeek\"], prefix='DAY')\n",
    "\n",
    "#Droping processed columns\n",
    "cleanData=cleanData.drop(\"PdDistrict\",axis=1)\n",
    "cleanData=cleanData.drop(\"DayOfWeek\",axis=1)\n",
    "#cleanData=cleanData.drop(\"Address\",axis=1)\n",
    "#cleanData=cleanData.drop(\"Dates\",axis=1)\n",
    "feature_list=cleanData.columns.tolist()'''"
   ]
  },
  {
   "cell_type": "code",
   "execution_count": 12,
   "metadata": {
    "collapsed": false
   },
   "outputs": [],
   "source": [
    "#Joining one-hot features\n",
    "#features = cleanData[feature_list].join(dummy_ranks_PD.ix[:,:]).join(dummy_ranks_DAY.ix[:,:])"
   ]
  },
  {
   "cell_type": "code",
   "execution_count": 13,
   "metadata": {
    "collapsed": false
   },
   "outputs": [
    {
     "name": "stdout",
     "output_type": "stream",
     "text": [
      "(702385, 22)\n",
      "(702385,)\n"
     ]
    }
   ],
   "source": [
    "features, labels = features_scaling(train_df)\n",
    "\n",
    "sss = StratifiedShuffleSplit(labels, test_size=0.2, random_state=42)\n",
    "for train_index, test_index in sss:\n",
    "    X_train, X_test = features.iloc[train_index], features.iloc[test_index]\n",
    "    y_train, y_test = labels[train_index], labels[test_index]\n",
    "X_train.index=range(len(X_train))\n",
    "X_test.index=range(len(X_test))\n",
    "y_train.index=range(len(y_train))\n",
    "y_test.index=range(len(y_test))\n",
    "features.index=range(len(features))\n",
    "labels.index=range(len(labels))\n",
    "print X_train.shape\n",
    "print y_train.shape"
   ]
  },
  {
   "cell_type": "code",
   "execution_count": 14,
   "metadata": {
    "collapsed": false
   },
   "outputs": [],
   "source": [
    "# Utility function to report best scores\n",
    "def report(grid_scores, n_top=3):\n",
    "    top_scores = sorted(grid_scores, key=itemgetter(1), reverse=True)[:n_top]\n",
    "    for i, score in enumerate(top_scores):\n",
    "        print(\"Model with rank: {0}\".format(i + 1))\n",
    "        print(\"Mean validation score: {0:.3f} (std: {1:.3f})\".format(\n",
    "              score.mean_validation_score,\n",
    "              np.std(score.cv_validation_scores)))\n",
    "        print(\"Parameters: {0}\".format(score.parameters))\n",
    "        print(\"\")"
   ]
  },
  {
   "cell_type": "code",
   "execution_count": 15,
   "metadata": {
    "collapsed": false
   },
   "outputs": [
    {
     "data": {
      "text/plain": [
       "'cv = StratifiedShuffleSplit(y_train, n_iter=5, test_size=0.2, random_state=42)\\nparam_grid = dict()\\ngrid = GridSearchCV(LogisticRegression(), param_grid=param_grid, cv=cv, n_jobs=number_of_jobs)\\n%time grid.fit(features, labels)'"
      ]
     },
     "execution_count": 15,
     "metadata": {},
     "output_type": "execute_result"
    }
   ],
   "source": [
    "'''cv = StratifiedShuffleSplit(y_train, n_iter=5, test_size=0.2, random_state=42)\n",
    "param_grid = dict()\n",
    "grid = GridSearchCV(LogisticRegression(), param_grid=param_grid, cv=cv, n_jobs=number_of_jobs)\n",
    "%time grid.fit(features, labels)'''"
   ]
  },
  {
   "cell_type": "code",
   "execution_count": 16,
   "metadata": {
    "collapsed": false
   },
   "outputs": [],
   "source": [
    "clf = RandomForestClassifier()\n",
    "\n",
    "# specify parameters and distributions to sample from\n",
    "param_dist = {\"n_estimators\": sp_randint(5, 100), #number of trees in the forest\n",
    "              \"max_depth\": sp_randint(5, 20), #maximum depth of the tree\n",
    "              #\"max_features\": sp_randint(1, 11),\n",
    "              #\"min_samples_split\": sp_randint(1, 11),\n",
    "              #\"min_samples_leaf\": sp_randint(1, 11),\n",
    "              \"bootstrap\": [True, False],\n",
    "              \"criterion\": [\"gini\", \"entropy\"]}\n",
    "\n",
    "# run randomized search\n",
    "n_iter_search = 20\n",
    "cv = StratifiedShuffleSplit(y_train, n_iter=5, test_size=0.2, random_state=42)\n",
    "random_search = RandomizedSearchCV(clf, param_distributions=param_dist,\n",
    "                                   n_iter=n_iter_search, cv=cv, n_jobs=number_of_jobs)"
   ]
  },
  {
   "cell_type": "code",
   "execution_count": 17,
   "metadata": {
    "collapsed": true
   },
   "outputs": [],
   "source": [
    "#%time random_search.fit(X_train, y_train)\n",
    "#report(random_search.grid_scores_)"
   ]
  },
  {
   "cell_type": "raw",
   "metadata": {},
   "source": [
    "#Results of my simulation\n",
    "\n",
    "Model with rank: 1\n",
    "Mean validation score: 0.299 (std: 0.001)\n",
    "Parameters: {'n_estimators': 69, 'bootstrap': True, 'criterion': 'entropy', 'max_depth': 19}\n",
    "\n",
    "Model with rank: 2\n",
    "Mean validation score: 0.297 (std: 0.001)\n",
    "Parameters: {'n_estimators': 92, 'bootstrap': True, 'criterion': 'entropy', 'max_depth': 18}\n",
    "\n",
    "Model with rank: 3\n",
    "Mean validation score: 0.294 (std: 0.001)\n",
    "Parameters: {'n_estimators': 71, 'bootstrap': False, 'criterion': 'entropy', 'max_depth': 17}"
   ]
  },
  {
   "cell_type": "code",
   "execution_count": 18,
   "metadata": {
    "collapsed": false
   },
   "outputs": [
    {
     "name": "stdout",
     "output_type": "stream",
     "text": [
      "CPU times: user 5min 38s, sys: 2.28 s, total: 5min 40s\n",
      "Wall time: 1min 28s\n"
     ]
    },
    {
     "data": {
      "text/plain": [
       "RandomForestClassifier(bootstrap=True, class_weight=None, criterion='entropy',\n",
       "            max_depth=19, max_features='auto', max_leaf_nodes=None,\n",
       "            min_samples_leaf=1, min_samples_split=2,\n",
       "            min_weight_fraction_leaf=0.0, n_estimators=69, n_jobs=4,\n",
       "            oob_score=False, random_state=None, verbose=0,\n",
       "            warm_start=False)"
      ]
     },
     "execution_count": 18,
     "metadata": {},
     "output_type": "execute_result"
    }
   ],
   "source": [
    "clf_final = RandomForestClassifier(n_estimators=69, bootstrap=True, criterion='entropy', max_depth=19, n_jobs=number_of_jobs)\n",
    "%time clf_final.fit(X_train, y_train)"
   ]
  },
  {
   "cell_type": "code",
   "execution_count": null,
   "metadata": {
    "collapsed": false
   },
   "outputs": [
    {
     "name": "stdout",
     "output_type": "stream",
     "text": [
      "('test', 2.4210280747356094)\n"
     ]
    }
   ],
   "source": [
    "print(\"test\", log_loss(y_test, clf_final.predict_proba(X_test.as_matrix())))"
   ]
  },
  {
   "cell_type": "code",
   "execution_count": null,
   "metadata": {
    "collapsed": false
   },
   "outputs": [
    {
     "name": "stdout",
     "output_type": "stream",
     "text": [
      "('train', 1.3289501725198882)\n"
     ]
    }
   ],
   "source": [
    "print(\"train\", log_loss(y_train, clf_final.predict_proba(X_train.as_matrix())))"
   ]
  },
  {
   "cell_type": "code",
   "execution_count": null,
   "metadata": {
    "collapsed": true
   },
   "outputs": [],
   "source": [
    "#Very limited interest to compute the line below\n",
    "#print(\"all\", log_loss(labels, clf_final.predict_proba(features.as_matrix())))"
   ]
  }
 ],
 "metadata": {
  "kernelspec": {
   "display_name": "Python 2",
   "language": "python",
   "name": "python2"
  },
  "language_info": {
   "codemirror_mode": {
    "name": "ipython",
    "version": 2
   },
   "file_extension": ".py",
   "mimetype": "text/x-python",
   "name": "python",
   "nbconvert_exporter": "python",
   "pygments_lexer": "ipython2",
   "version": "2.7.11"
  }
 },
 "nbformat": 4,
 "nbformat_minor": 0
}
