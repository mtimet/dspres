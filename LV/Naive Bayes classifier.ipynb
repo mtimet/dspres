{
 "cells": [
  {
   "cell_type": "code",
   "execution_count": 1,
   "metadata": {
    "collapsed": true
   },
   "outputs": [],
   "source": [
    "import pandas as pd\n",
    "from sklearn.cross_validation import train_test_split\n",
    "from sklearn import preprocessing\n",
    "from sklearn.metrics import log_loss\n",
    "from sklearn.naive_bayes import BernoulliNB\n",
    "from sklearn.linear_model import LogisticRegression\n",
    "import numpy as np"
   ]
  },
  {
   "cell_type": "markdown",
   "metadata": {},
   "source": [
    "# Load the data\n",
    "\n",
    "[link](https://www.kaggle.com/c/sf-crime/data?test.csv.zip)"
   ]
  },
  {
   "cell_type": "code",
   "execution_count": 2,
   "metadata": {
    "collapsed": false
   },
   "outputs": [],
   "source": [
    "#Load Data with pandas, and parse the first column into datetime\n",
    "train_csv = r'data/train.csv'\n",
    "train=pd.read_csv(train_csv, parse_dates = ['Dates'])\n",
    "\n",
    "test_csv = r'data/test.csv'\n",
    "test=pd.read_csv(test_csv, parse_dates = ['Dates'])"
   ]
  },
  {
   "cell_type": "markdown",
   "metadata": {},
   "source": [
    "# Encode labels"
   ]
  },
  {
   "cell_type": "code",
   "execution_count": 12,
   "metadata": {
    "collapsed": false
   },
   "outputs": [],
   "source": [
    "labelEncoder = preprocessing.LabelEncoder()\n",
    "encodedCategory = labelEncoder.fit_transform(train.Category)\n",
    "\n",
    "encodedDays = pd.get_dummies(train.DayOfWeek)\n",
    "encodedDistrict = pd.get_dummies(train.PdDistrict)\n",
    "trainDf = pd.concat([encodedDays, encodedDistrict], axis=1)\n",
    "\n",
    "trainDf['Y']=train['Y']\n",
    "trainDf['X']=train['X']\n",
    "trainDf['Category']=encodedCategory\n",
    "\n",
    "encodedDays = pd.get_dummies(test.DayOfWeek)\n",
    "encodedDistrict = pd.get_dummies(test.PdDistrict)\n",
    "testDf = pd.concat([encodedDays, encodedDistrict], axis=1)\n",
    "\n",
    "testDf['Y']=test['Y']\n",
    "testDf['X']=test['X']"
   ]
  },
  {
   "cell_type": "code",
   "execution_count": 5,
   "metadata": {
    "collapsed": false,
    "scrolled": true
   },
   "outputs": [
    {
     "data": {
      "text/html": [
       "<div>\n",
       "<table border=\"1\" class=\"dataframe\">\n",
       "  <thead>\n",
       "    <tr style=\"text-align: right;\">\n",
       "      <th></th>\n",
       "      <th>Friday</th>\n",
       "      <th>Monday</th>\n",
       "      <th>Saturday</th>\n",
       "      <th>Sunday</th>\n",
       "      <th>Thursday</th>\n",
       "      <th>Tuesday</th>\n",
       "      <th>Wednesday</th>\n",
       "      <th>BAYVIEW</th>\n",
       "      <th>CENTRAL</th>\n",
       "      <th>INGLESIDE</th>\n",
       "      <th>MISSION</th>\n",
       "      <th>NORTHERN</th>\n",
       "      <th>PARK</th>\n",
       "      <th>RICHMOND</th>\n",
       "      <th>SOUTHERN</th>\n",
       "      <th>TARAVAL</th>\n",
       "      <th>TENDERLOIN</th>\n",
       "      <th>Y</th>\n",
       "      <th>X</th>\n",
       "      <th>Category</th>\n",
       "    </tr>\n",
       "  </thead>\n",
       "  <tbody>\n",
       "    <tr>\n",
       "      <th>0</th>\n",
       "      <td>0</td>\n",
       "      <td>0</td>\n",
       "      <td>0</td>\n",
       "      <td>0</td>\n",
       "      <td>0</td>\n",
       "      <td>0</td>\n",
       "      <td>1</td>\n",
       "      <td>0</td>\n",
       "      <td>0</td>\n",
       "      <td>0</td>\n",
       "      <td>0</td>\n",
       "      <td>1</td>\n",
       "      <td>0</td>\n",
       "      <td>0</td>\n",
       "      <td>0</td>\n",
       "      <td>0</td>\n",
       "      <td>0</td>\n",
       "      <td>37.774599</td>\n",
       "      <td>-122.425892</td>\n",
       "      <td>37</td>\n",
       "    </tr>\n",
       "    <tr>\n",
       "      <th>1</th>\n",
       "      <td>0</td>\n",
       "      <td>0</td>\n",
       "      <td>0</td>\n",
       "      <td>0</td>\n",
       "      <td>0</td>\n",
       "      <td>0</td>\n",
       "      <td>1</td>\n",
       "      <td>0</td>\n",
       "      <td>0</td>\n",
       "      <td>0</td>\n",
       "      <td>0</td>\n",
       "      <td>1</td>\n",
       "      <td>0</td>\n",
       "      <td>0</td>\n",
       "      <td>0</td>\n",
       "      <td>0</td>\n",
       "      <td>0</td>\n",
       "      <td>37.774599</td>\n",
       "      <td>-122.425892</td>\n",
       "      <td>21</td>\n",
       "    </tr>\n",
       "    <tr>\n",
       "      <th>2</th>\n",
       "      <td>0</td>\n",
       "      <td>0</td>\n",
       "      <td>0</td>\n",
       "      <td>0</td>\n",
       "      <td>0</td>\n",
       "      <td>0</td>\n",
       "      <td>1</td>\n",
       "      <td>0</td>\n",
       "      <td>0</td>\n",
       "      <td>0</td>\n",
       "      <td>0</td>\n",
       "      <td>1</td>\n",
       "      <td>0</td>\n",
       "      <td>0</td>\n",
       "      <td>0</td>\n",
       "      <td>0</td>\n",
       "      <td>0</td>\n",
       "      <td>37.800414</td>\n",
       "      <td>-122.424363</td>\n",
       "      <td>21</td>\n",
       "    </tr>\n",
       "    <tr>\n",
       "      <th>3</th>\n",
       "      <td>0</td>\n",
       "      <td>0</td>\n",
       "      <td>0</td>\n",
       "      <td>0</td>\n",
       "      <td>0</td>\n",
       "      <td>0</td>\n",
       "      <td>1</td>\n",
       "      <td>0</td>\n",
       "      <td>0</td>\n",
       "      <td>0</td>\n",
       "      <td>0</td>\n",
       "      <td>1</td>\n",
       "      <td>0</td>\n",
       "      <td>0</td>\n",
       "      <td>0</td>\n",
       "      <td>0</td>\n",
       "      <td>0</td>\n",
       "      <td>37.800873</td>\n",
       "      <td>-122.426995</td>\n",
       "      <td>16</td>\n",
       "    </tr>\n",
       "    <tr>\n",
       "      <th>4</th>\n",
       "      <td>0</td>\n",
       "      <td>0</td>\n",
       "      <td>0</td>\n",
       "      <td>0</td>\n",
       "      <td>0</td>\n",
       "      <td>0</td>\n",
       "      <td>1</td>\n",
       "      <td>0</td>\n",
       "      <td>0</td>\n",
       "      <td>0</td>\n",
       "      <td>0</td>\n",
       "      <td>0</td>\n",
       "      <td>1</td>\n",
       "      <td>0</td>\n",
       "      <td>0</td>\n",
       "      <td>0</td>\n",
       "      <td>0</td>\n",
       "      <td>37.771541</td>\n",
       "      <td>-122.438738</td>\n",
       "      <td>16</td>\n",
       "    </tr>\n",
       "  </tbody>\n",
       "</table>\n",
       "</div>"
      ],
      "text/plain": [
       "   Friday  Monday  Saturday  Sunday  Thursday  Tuesday  Wednesday  BAYVIEW  \\\n",
       "0       0       0         0       0         0        0          1        0   \n",
       "1       0       0         0       0         0        0          1        0   \n",
       "2       0       0         0       0         0        0          1        0   \n",
       "3       0       0         0       0         0        0          1        0   \n",
       "4       0       0         0       0         0        0          1        0   \n",
       "\n",
       "   CENTRAL  INGLESIDE  MISSION  NORTHERN  PARK  RICHMOND  SOUTHERN  TARAVAL  \\\n",
       "0        0          0        0         1     0         0         0        0   \n",
       "1        0          0        0         1     0         0         0        0   \n",
       "2        0          0        0         1     0         0         0        0   \n",
       "3        0          0        0         1     0         0         0        0   \n",
       "4        0          0        0         0     1         0         0        0   \n",
       "\n",
       "   TENDERLOIN          Y           X  Category  \n",
       "0           0  37.774599 -122.425892        37  \n",
       "1           0  37.774599 -122.425892        21  \n",
       "2           0  37.800414 -122.424363        21  \n",
       "3           0  37.800873 -122.426995        16  \n",
       "4           0  37.771541 -122.438738        16  "
      ]
     },
     "execution_count": 5,
     "metadata": {},
     "output_type": "execute_result"
    }
   ],
   "source": [
    "trainDf.head()"
   ]
  },
  {
   "cell_type": "markdown",
   "metadata": {
    "collapsed": true
   },
   "source": [
    "# Naive Bayes classifier on day and kind"
   ]
  },
  {
   "cell_type": "code",
   "execution_count": 6,
   "metadata": {
    "collapsed": false
   },
   "outputs": [],
   "source": [
    "features = ['Y', 'X']\n",
    "features = np.append(features, train.DayOfWeek.unique())\n",
    "features = np.append(features, train.PdDistrict.unique())"
   ]
  },
  {
   "cell_type": "code",
   "execution_count": 7,
   "metadata": {
    "collapsed": false
   },
   "outputs": [
    {
     "name": "stdout",
     "output_type": "stream",
     "text": [
      "(size, log_loss) :  (0.7, 2.6133676750054557)\n"
     ]
    }
   ],
   "source": [
    "def naiveBayesClassifier (df, size, features, withLogLoss):\n",
    "    # Split arrays or matrices into random train and test subsets\n",
    "    training, validation = train_test_split(df, train_size=size)\n",
    "\n",
    "    # Naive Bayes classifier for multivariate Bernoulli models.\n",
    "    model = BernoulliNB()\n",
    "    model.fit(training[features], training['Category'])\n",
    "    predicted = model.predict_proba(validation[features])\n",
    "\n",
    "    if withLogLoss:\n",
    "        print('(size, log_loss) : ',(size,log_loss(validation['Category'], np.array(predicted))))\n",
    "        \n",
    "naiveBayesClassifier(trainDf,0.7,features,True)"
   ]
  },
  {
   "cell_type": "code",
   "execution_count": 8,
   "metadata": {
    "collapsed": false
   },
   "outputs": [],
   "source": [
    "# Train final model of whole training dataset\n",
    "model = BernoulliNB()\n",
    "model.fit(trainDf[features], trainDf['Category'])\n",
    "predicted = model.predict_proba(testDf[features])\n",
    "\n",
    "# results\n",
    "result=pd.DataFrame(predicted, columns=labelEncoder.classes_)\n",
    "#result.to_csv('testResult.csv', index = True, index_label = 'Id')"
   ]
  },
  {
   "cell_type": "markdown",
   "metadata": {},
   "source": [
    "# Naive Bayes classifier on day, hour and kind"
   ]
  },
  {
   "cell_type": "code",
   "execution_count": 9,
   "metadata": {
    "collapsed": false
   },
   "outputs": [],
   "source": [
    "trainDf['Hour']=train.Dates.dt.hour\n",
    "testDf['Hour']=test.Dates.dt.hour\n",
    "featuresWithHours = np.append(features, 'Hour')"
   ]
  },
  {
   "cell_type": "code",
   "execution_count": 10,
   "metadata": {
    "collapsed": false
   },
   "outputs": [
    {
     "name": "stdout",
     "output_type": "stream",
     "text": [
      "(size, log_loss) :  (0.7, 2.6101498910875884)\n"
     ]
    }
   ],
   "source": [
    "naiveBayesClassifier(trainDf,0.7,featuresWithHours,True)"
   ]
  },
  {
   "cell_type": "code",
   "execution_count": 11,
   "metadata": {
    "collapsed": false
   },
   "outputs": [],
   "source": [
    "# Train final model of whole training dataset\n",
    "model = BernoulliNB()\n",
    "model.fit(trainDf[featuresWithHours], trainDf['Category'])\n",
    "predicted = model.predict_proba(testDf[featuresWithHours])\n",
    "\n",
    "# results\n",
    "result=pd.DataFrame(predicted, columns=labelEncoder.classes_)\n",
    "#result.to_csv('testResult.csv', index = True, index_label = 'Id')"
   ]
  },
  {
   "cell_type": "markdown",
   "metadata": {},
   "source": [
    "# Naive Bayes classifier on day, hour and kind + different training/test split size"
   ]
  },
  {
   "cell_type": "code",
   "execution_count": null,
   "metadata": {
    "collapsed": false
   },
   "outputs": [],
   "source": [
    "naiveBayesClassifier(trainDf,0.6,featuresWithHours,True)\n",
    "naiveBayesClassifier(trainDf,0.7,featuresWithHours,True)\n",
    "naiveBayesClassifier(trainDf,0.75,featuresWithHours,True)\n",
    "naiveBayesClassifier(trainDf,0.77,featuresWithHours,True)\n",
    "naiveBayesClassifier(trainDf,0.8,featuresWithHours,True)"
   ]
  },
  {
   "cell_type": "code",
   "execution_count": null,
   "metadata": {
    "collapsed": true
   },
   "outputs": [],
   "source": []
  }
 ],
 "metadata": {
  "kernelspec": {
   "display_name": "Python 3",
   "language": "python",
   "name": "python3"
  },
  "language_info": {
   "codemirror_mode": {
    "name": "ipython",
    "version": 3
   },
   "file_extension": ".py",
   "mimetype": "text/x-python",
   "name": "python",
   "nbconvert_exporter": "python",
   "pygments_lexer": "ipython3",
   "version": "3.4.3"
  }
 },
 "nbformat": 4,
 "nbformat_minor": 0
}
