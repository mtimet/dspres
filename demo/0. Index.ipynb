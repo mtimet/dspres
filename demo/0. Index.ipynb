{
 "cells": [
  {
   "cell_type": "markdown",
   "metadata": {},
   "source": [
    " 1. Getting Started   \n",
    "   1.1 [Setup + Python](1.1%20Setup%20%2B%20Python.ipynb)  \n",
    "   1.2 [Jupyter](1.2%20Jupyter.ipynb)\n",
    " 2. Data Discovery  \n",
    "   2.1 [Data exploration with Pandas](2.1%20Data%20exploration%20with%20Pandas.ipynb)  \n",
    "   2.2 [Data Visualization](2.2%20Data%20Visualization.ipynb)  \n",
    "   2.3 [More Interactions](2.3%20More%20Interactions.ipynb)  \n",
    " 3. Machine Learning  \n",
    "   3.1 [Data Preparation](5.%20Data%20Preparation.ipynb)  \n",
    "   3.2 [Random Forest : Initial Approach](6.%20Random%20Forest%20-%20Initial%20Approach.ipynb)  \n",
    "   3.3 [Random Forest : Going Deeper](7.%20Random%20Forest%20-%20Going%20Deeper.ipynb)  \n",
    "   3.4 [Other Models and Automation](8.%20Other%20Models%20and%20Automation.ipynb)  "
   ]
  },
  {
   "cell_type": "code",
   "execution_count": null,
   "metadata": {
    "collapsed": true
   },
   "outputs": [],
   "source": []
  }
 ],
 "metadata": {
  "kernelspec": {
   "display_name": "Python 3",
   "language": "python",
   "name": "python3"
  },
  "language_info": {
   "codemirror_mode": {
    "name": "ipython",
    "version": 3
   },
   "file_extension": ".py",
   "mimetype": "text/x-python",
   "name": "python",
   "nbconvert_exporter": "python",
   "pygments_lexer": "ipython3",
   "version": "3.5.1"
  },
  "toc": {
   "toc_cell": false,
   "toc_number_sections": true,
   "toc_threshold": 6,
   "toc_window_display": false
  },
  "widgets": {
   "state": {},
   "version": "1.1.1"
  }
 },
 "nbformat": 4,
 "nbformat_minor": 0
}
