{
 "cells": [
  {
   "cell_type": "markdown",
   "metadata": {},
   "source": [
    " 1. Getting Started   \n",
    "   1.1 [Setup + Python](1.1%20Setup%20n%20Python.ipynb)  \n",
    "   1.2 [Jupyter](1.2%20Jupyter.ipynb)\n",
    " 2. Data Discovery  \n",
    "   2.1 [Data exploration with Pandas](2.1%20Data%20exploration%20with%20Pandas.ipynb)  \n",
    "   2.2 [Data Visualization](2.2%20Data%20Visualization.ipynb)  \n",
    "   2.3 [More Interactions](2.3%20More%20Interactions.ipynb)  \n",
    " 3. Machine Learning  \n",
    "   3.1 [Data Preparation](3.1%20Data%20Preparation.ipynb)  \n",
    "   3.2 [Random Forest : Initial Approach](3.2%20Random%20Forest%20-%20Initial%20Approach.ipynb)  \n",
    "   3.3 [Model Assessment](3.3%20Model%20Assessment.ipynb)  \n",
    "   3.4 [Model Selection and Automation](3.4%20Model%20selection%20and%20automation.ipynb)  \n",
    " 4. [Conclusion](4.%20Conclusion.ipynb)"
   ]
  }
 ],
 "metadata": {
  "kernelspec": {
   "display_name": "Python 3",
   "language": "python",
   "name": "python3"
  },
  "language_info": {
   "codemirror_mode": {
    "name": "ipython",
    "version": 3
   },
   "file_extension": ".py",
   "mimetype": "text/x-python",
   "name": "python",
   "nbconvert_exporter": "python",
   "pygments_lexer": "ipython3",
   "version": "3.5.1"
  },
  "toc": {
   "toc_cell": false,
   "toc_number_sections": true,
   "toc_threshold": 6,
   "toc_window_display": false
  },
  "widgets": {
   "state": {},
   "version": "1.1.1"
  }
 },
 "nbformat": 4,
 "nbformat_minor": 0
}
