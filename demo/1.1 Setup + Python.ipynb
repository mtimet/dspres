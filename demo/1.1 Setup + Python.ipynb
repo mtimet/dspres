{
 "cells": [
  {
   "cell_type": "markdown",
   "metadata": {},
   "source": [
    "# Table of Contents\n",
    "[1.Why Python ?](#wp)\n",
    "\n",
    "[2.Python Install](#py_inst)\n",
    "\n",
    "[3.Python 2.7 vs 3.5](#py_2_vs_3)"
   ]
  },
  {
   "cell_type": "markdown",
   "metadata": {},
   "source": [
    "<a id='wp'></a>\n",
    "## 1.Why Python ?"
   ]
  },
  {
   "cell_type": "markdown",
   "metadata": {},
   "source": [
    "#### 1. Official approved language in the bank\n",
    "    - Has been used for more than 10 years in GECD\n",
    "    - Supported by basic building blocks:\n",
    "        * Pdl/GNP bindings.\n",
    "        * Westminster lib.\n",
    "        * lots of production gnp services are in python.\n",
    "    - Wide adoption among corporations and lately huge traction from the banking industry.\n",
    "    \n",
    "#### 2. Data Scientist friendly ecosystem:\n",
    "    - Pandas and Numpy\n",
    "    - Matplotlib\n",
    "    - Jupyter notebook\n",
    "    - Scikit Learn / PyMC3 / statsmodels\n",
    "    - Tensor Flow (open sourced by google @late 2016)  \n",
    "    \n",
    "#### 3. Python is FREE and  EASY"
   ]
  },
  {
   "cell_type": "markdown",
   "metadata": {},
   "source": [
    "<a id='py_inst'></a>\n",
    "## 2.Python Install"
   ]
  },
  {
   "cell_type": "markdown",
   "metadata": {},
   "source": [
    "#### 1. plain python\n",
    "\n",
    "\n",
    "####  2. anaconda distribution (https://www.continuum.io/downloads)\n",
    "        * battery included (all scientific stack)\n",
    "        * better package manager (conda)\n",
    "          \n",
    "          conda list\n",
    "          conda update pandas\n",
    "          conda install basemap\n",
    "          \n",
    "        * handle different versions of python smoothly\n",
    "   \n",
    "          conda create -n python3 python=3.5 anaconda    \n",
    "          source activate python3  \n",
    "          source deactivate    \n"
   ]
  },
  {
   "cell_type": "markdown",
   "metadata": {},
   "source": [
    "<a id='py_2_vs_3'></a>\n",
    "## 3.Python 2.7 vs 3.5"
   ]
  },
  {
   "cell_type": "markdown",
   "metadata": {},
   "source": [
    "#### 1.Some syntaxical differences\n",
    "    print \"Hello\"  #Python 2 only\n",
    "    print(\"Hello\") #Python 2 and 3\n",
    "    \n",
    "#### 2.Python 2 is legacy Python 3 is the present and future\n",
    "\n",
    "#### 3.Which should I use ? \n",
    "    Python 3 except if you intend to use libraries not present in Python 3"
   ]
  }
 ],
 "metadata": {
  "kernelspec": {
   "display_name": "Python 2",
   "language": "python",
   "name": "python2"
  },
  "language_info": {
   "codemirror_mode": {
    "name": "ipython",
    "version": 2
   },
   "file_extension": ".py",
   "mimetype": "text/x-python",
   "name": "python",
   "nbconvert_exporter": "python",
   "pygments_lexer": "ipython2",
   "version": "2.7.11"
  },
  "toc": {
   "toc_cell": false,
   "toc_number_sections": true,
   "toc_threshold": 6,
   "toc_window_display": false
  },
  "widgets": {
   "state": {},
   "version": "1.1.1"
  }
 },
 "nbformat": 4,
 "nbformat_minor": 0
}
