{
 "cells": [
  {
   "cell_type": "code",
   "execution_count": 2,
   "metadata": {
    "collapsed": false
   },
   "outputs": [
    {
     "name": "stdout",
     "output_type": "stream",
     "text": [
      "CPU times: user 3.74 s, sys: 251 ms, total: 3.99 s\n",
      "Wall time: 5.1 s\n",
      "CPU times: user 3.55 s, sys: 216 ms, total: 3.77 s\n",
      "Wall time: 3.78 s\n",
      "CPU times: user 4.64 s, sys: 912 ms, total: 5.55 s\n",
      "Wall time: 6.82 s\n",
      "CPU times: user 535 ms, sys: 142 ms, total: 676 ms\n",
      "Wall time: 685 ms\n",
      "CPU times: user 539 ms, sys: 139 ms, total: 678 ms\n",
      "Wall time: 717 ms\n"
     ]
    }
   ],
   "source": [
    "%load load_and_enrich.py"
   ]
  },
  {
   "cell_type": "code",
   "execution_count": 3,
   "metadata": {
    "collapsed": true
   },
   "outputs": [],
   "source": [
    "#let's get rid of the outliers\n",
    "train = train[train.Y < 40]"
   ]
  },
  {
   "cell_type": "code",
   "execution_count": 4,
   "metadata": {
    "collapsed": false
   },
   "outputs": [],
   "source": [
    "from IPython.display import display,clear_output\n",
    "import ipywidgets as widgets\n",
    "import seaborn as sns\n",
    "from matplotlib import cm\n",
    "import matplotlib as mpl\n",
    "mpl.rcParams['figure.figsize']=[20,10]"
   ]
  },
  {
   "cell_type": "code",
   "execution_count": 5,
   "metadata": {
    "collapsed": true
   },
   "outputs": [],
   "source": [
    "def pivot_train_count_data(index,column):\n",
    "    return train.pivot_table(\n",
    "        index=index,\n",
    "        columns=[column],\n",
    "        values='X',\n",
    "        aggfunc=np.count_nonzero\n",
    "    )\n",
    "ordered_categories = list(train.Category.value_counts().index)"
   ]
  },
  {
   "cell_type": "code",
   "execution_count": 10,
   "metadata": {
    "collapsed": false
   },
   "outputs": [],
   "source": [
    "def on_update(e=None):\n",
    "    index = vertical_buttons.value\n",
    "    column = horizontal_buttons.value\n",
    "    if index == column:\n",
    "        return\n",
    "    df = pivot_train_count_data(index=index, column=column)\n",
    "    \n",
    "    if index == 'Category':\n",
    "        df = df.loc[ordered_categories]\n",
    "    elif column == 'Category':\n",
    "        df = df[ordered_categories]\n",
    "    \n",
    "    clear_output(wait=True)\n",
    "    html_df.value = ''\n",
    "    \n",
    "    if output_kind.value == 'table':\n",
    "        html_df.value = df.to_html()\n",
    "    else:\n",
    "        ax = plt.gca()\n",
    "#         fig = plt.figure(figsize=(20,10))\n",
    "        ax = sns.heatmap(df, linewidths=.5,cmap=cm.RdYlBu_r)\n",
    "        plt.show()\n",
    "    "
   ]
  },
  {
   "cell_type": "code",
   "execution_count": 11,
   "metadata": {
    "collapsed": false,
    "scrolled": false
   },
   "outputs": [
    {
     "data": {
      "image/png": "[encoded data removed]",
      "text/plain": [
       "<matplotlib.figure.Figure at 0x11a586da0>"
      ]
     },
     "metadata": {},
     "output_type": "display_data"
    }
   ],
   "source": [
    "columns = ['Category','Year','Month','Day','DayOfWeek']\n",
    "\n",
    "horizontal_buttons = widgets.ToggleButtons(description='Horizontal', options=columns, value='Year')\n",
    "vertical_buttons = widgets.ToggleButtons(description='Vertical', options=columns, value='Month')\n",
    "output_kind = widgets.RadioButtons(description='Ouput :', options=['table','heatmap'])\n",
    "df = pivot_train_count_data(index=vertical_buttons.value, column=horizontal_buttons.value)\n",
    "html_df = widgets.HTML()\n",
    "plt.ioff()\n",
    "# plt.figure(figsize=(20,10))\n",
    "\n",
    "main = widgets.Box([\n",
    "    widgets.HBox([horizontal_buttons,]),\n",
    "    widgets.HBox([vertical_buttons,]),\n",
    "    output_kind,\n",
    "    html_df\n",
    "])\n",
    "\n",
    "display(main)\n",
    "\n",
    "on_update()\n",
    "horizontal_buttons.observe(handler=on_update)\n",
    "vertical_buttons.observe(handler=on_update)\n",
    "output_kind.observe(handler=on_update)"
   ]
  },
  {
   "cell_type": "code",
   "execution_count": 12,
   "metadata": {
    "collapsed": false
   },
   "outputs": [
    {
     "data": {
      "application/json": {
       "Software versions": [
        {
         "module": "Python",
         "version": "3.5.1 64bit [GCC 4.2.1 (Apple Inc. build 5577)]"
        },
        {
         "module": "IPython",
         "version": "4.2.0"
        },
        {
         "module": "OS",
         "version": "Darwin 14.3.0 x86_64 i386 64bit"
        },
        {
         "module": "numpy",
         "version": "1.10.4"
        },
        {
         "module": "pandas",
         "version": "0.18.1"
        },
        {
         "module": "matplotlib",
         "version": "1.5.1"
        },
        {
         "module": "seaborn",
         "version": "0.7.0"
        }
       ]
      },
      "text/html": [
       "<table><tr><th>Software</th><th>Version</th></tr><tr><td>Python</td><td>3.5.1 64bit [GCC 4.2.1 (Apple Inc. build 5577)]</td></tr><tr><td>IPython</td><td>4.2.0</td></tr><tr><td>OS</td><td>Darwin 14.3.0 x86_64 i386 64bit</td></tr><tr><td>numpy</td><td>1.10.4</td></tr><tr><td>pandas</td><td>0.18.1</td></tr><tr><td>matplotlib</td><td>1.5.1</td></tr><tr><td>seaborn</td><td>0.7.0</td></tr><tr><td colspan='2'>Tue May 31 02:30:01 2016 BST</td></tr></table>"
      ],
      "text/latex": [
       "\\begin{tabular}{|l|l|}\\hline\n",
       "{\\bf Software} & {\\bf Version} \\\\ \\hline\\hline\n",
       "Python & 3.5.1 64bit [GCC 4.2.1 (Apple Inc. build 5577)] \\\\ \\hline\n",
       "IPython & 4.2.0 \\\\ \\hline\n",
       "OS & Darwin 14.3.0 x86\\_64 i386 64bit \\\\ \\hline\n",
       "numpy & 1.10.4 \\\\ \\hline\n",
       "pandas & 0.18.1 \\\\ \\hline\n",
       "matplotlib & 1.5.1 \\\\ \\hline\n",
       "seaborn & 0.7.0 \\\\ \\hline\n",
       "\\hline \\multicolumn{2}{|l|}{Tue May 31 02:30:01 2016 BST} \\\\ \\hline\n",
       "\\end{tabular}\n"
      ],
      "text/plain": [
       "Software versions\n",
       "Python 3.5.1 64bit [GCC 4.2.1 (Apple Inc. build 5577)]\n",
       "IPython 4.2.0\n",
       "OS Darwin 14.3.0 x86_64 i386 64bit\n",
       "numpy 1.10.4\n",
       "pandas 0.18.1\n",
       "matplotlib 1.5.1\n",
       "seaborn 0.7.0\n",
       "Tue May 31 02:30:01 2016 BST"
      ]
     },
     "execution_count": 12,
     "metadata": {},
     "output_type": "execute_result"
    }
   ],
   "source": [
    "%load_ext version_information\n",
    "%version_information numpy,pandas,matplotlib,seaborn"
   ]
  },
  {
   "cell_type": "code",
   "execution_count": null,
   "metadata": {
    "collapsed": true
   },
   "outputs": [],
   "source": []
  }
 ],
 "metadata": {
  "kernelspec": {
   "display_name": "Python 3",
   "language": "python",
   "name": "python3"
  },
  "language_info": {
   "codemirror_mode": {
    "name": "ipython",
    "version": 3
   },
   "file_extension": ".py",
   "mimetype": "text/x-python",
   "name": "python",
   "nbconvert_exporter": "python",
   "pygments_lexer": "ipython3",
   "version": "3.5.1"
  },
  "toc": {
   "toc_cell": false,
   "toc_number_sections": true,
   "toc_threshold": 6,
   "toc_window_display": false
  },
  "widgets": {
   "state": {
    "0200a6d29f014829bff4089c12b25f3c": {
     "views": []
    },
    "088a6ce845194adba0f3b7ad99868175": {
     "views": []
    },
    "1c5f5eb03c32475882243387d481dbb9": {
     "views": []
    },
    "1d81b46265644e9cb4010274625605d5": {
     "views": []
    },
    "1ecb509910c5469cb750c271d0214483": {
     "views": []
    },
    "20989328da9c4407a4fb3adf05b26714": {
     "views": []
    },
    "3730d64c6e084d8b930e40f3dcd26be1": {
     "views": []
    },
    "4378b29ac51e4efdaf9c7bc0f8b47d5e": {
     "views": []
    },
    "445a1e6a8b874cdcae18f58a3c6d6dd1": {
     "views": []
    },
    "4c7b33e3db434953ac20eec2e4f72a02": {
     "views": []
    },
    "4e7c3863024b45ccb1906c519cc19c41": {
     "views": []
    },
    "50b71558bbfe4155b30d1c5f9bd84ce8": {
     "views": []
    },
    "5559c9faf3544bda8c41cfd2b95d7778": {
     "views": []
    },
    "5baecf90f1614baba787271b5c26dd85": {
     "views": []
    },
    "608f90f0ba074bc597cf80373e6971bd": {
     "views": []
    },
    "75ba0b6091a44bb8b5bc9b1925c6f37b": {
     "views": []
    },
    "7939150eed6d4da99d44f167626ec42f": {
     "views": []
    },
    "7d9b82433e5f4c73a5b3106b69d87057": {
     "views": []
    },
    "8aa3438d25c441be84b420cffc464cd0": {
     "views": []
    },
    "8c736ef9d4b64ee7bbe1b4e785c9bb62": {
     "views": []
    },
    "8f84fc04227b46469ae3e3ce88862f8e": {
     "views": []
    },
    "9d32e70252fa4cc59b2ab5d408cc77b1": {
     "views": []
    },
    "a2139e7e591f40d58ecc86111bf2da24": {
     "views": []
    },
    "a61a2578594e4880a1267ca8e9527e58": {
     "views": []
    },
    "a7412e9066eb46b6948d894f4e5ce7fe": {
     "views": [
      {
       "cell_index": 5
      }
     ]
    },
    "a8da79c2872c44829949745c10944bf5": {
     "views": []
    },
    "a9eb75948e5e4c99bacf3558c982f07e": {
     "views": []
    },
    "aab62f7030914e769800a130e102b4d8": {
     "views": []
    },
    "abe7399ef35444bdbd12ccac79ca5a25": {
     "views": []
    },
    "ba1dfef5b4e14a06b0f6e622d23b5433": {
     "views": []
    },
    "be0d5815ad3f4d0486d4406ecdb6192e": {
     "views": []
    },
    "c782f18059d843648a40715f0b17bbbf": {
     "views": []
    },
    "cd505420f6c5415794b5cf37d08deeaa": {
     "views": []
    },
    "d2342869d1ad413889973189bdd2a70d": {
     "views": []
    },
    "d75502b0800d499982d8368c0bfddee0": {
     "views": []
    },
    "d992b1e7ea274fb084bffd116c66c148": {
     "views": []
    },
    "da1b822acb56491589986c02cc51f2fa": {
     "views": []
    },
    "e5800ba11f5444399f5c37041764c2ac": {
     "views": []
    },
    "e7a16030e8f54506939c16f796bf9c6a": {
     "views": []
    },
    "ee7a1478fb8c4ca7b3fe5de70d2f892a": {
     "views": []
    },
    "fb6b5227ac6d405a80e0eb8462dcc038": {
     "views": []
    },
    "fbc0d26857684290a619255f1fc29b36": {
     "views": []
    }
   },
   "version": "1.1.1"
  }
 },
 "nbformat": 4,
 "nbformat_minor": 0
}
