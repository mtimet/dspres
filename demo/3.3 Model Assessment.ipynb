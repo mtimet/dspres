{
 "cells": [
  {
   "cell_type": "markdown",
   "metadata": {
    "toc": "true"
   },
   "source": [
    "# Table of Contents\n",
    " <p><div class=\"lev1\"><a href=\"#Scoring\"><span class=\"toc-item-num\">1&nbsp;&nbsp;</span>Scoring</a></div><div class=\"lev2\"><a href=\"#Train-test-split\"><span class=\"toc-item-num\">1.1&nbsp;&nbsp;</span>Train test split</a></div><div class=\"lev2\"><a href=\"#Fit\"><span class=\"toc-item-num\">1.2&nbsp;&nbsp;</span>Fit</a></div><div class=\"lev2\"><a href=\"#Predict\"><span class=\"toc-item-num\">1.3&nbsp;&nbsp;</span>Predict</a></div><div class=\"lev2\"><a href=\"#Score\"><span class=\"toc-item-num\">1.4&nbsp;&nbsp;</span>Score</a></div><div class=\"lev2\"><a href=\"#Logloss\"><span class=\"toc-item-num\">1.5&nbsp;&nbsp;</span>Logloss</a></div><div class=\"lev2\"><a href=\"#Confusion-Matrix\"><span class=\"toc-item-num\">1.6&nbsp;&nbsp;</span>Confusion Matrix</a></div><div class=\"lev1\"><a href=\"#Cross-validation\"><span class=\"toc-item-num\">2&nbsp;&nbsp;</span>Cross validation</a></div><div class=\"lev2\"><a href=\"#Train-testsplit\"><span class=\"toc-item-num\">2.1&nbsp;&nbsp;</span>Train testsplit</a></div><div class=\"lev2\"><a href=\"#Cross-val-score\"><span class=\"toc-item-num\">2.2&nbsp;&nbsp;</span>Cross val score</a></div><div class=\"lev1\"><a href=\"#Optimal-parameters-search\"><span class=\"toc-item-num\">3&nbsp;&nbsp;</span>Optimal parameters search</a></div><div class=\"lev2\"><a href=\"#GridSearchCV\"><span class=\"toc-item-num\">3.1&nbsp;&nbsp;</span>GridSearchCV</a></div><div class=\"lev2\"><a href=\"#Predict-with-best-estimator\"><span class=\"toc-item-num\">3.2&nbsp;&nbsp;</span>Predict with best estimator</a></div><div class=\"lev1\"><a href=\"#Overfitting-and-underfitting-detection\"><span class=\"toc-item-num\">4&nbsp;&nbsp;</span>Overfitting and underfitting detection</a></div><div class=\"lev2\"><a href=\"#Learning-curve\"><span class=\"toc-item-num\">4.1&nbsp;&nbsp;</span>Learning curve</a></div><div class=\"lev2\"><a href=\"#Validation-Curve\"><span class=\"toc-item-num\">4.2&nbsp;&nbsp;</span>Validation Curve</a></div>"
   ]
  },
  {
   "cell_type": "code",
   "execution_count": 2,
   "metadata": {
    "collapsed": false
   },
   "outputs": [
    {
     "name": "stdout",
     "output_type": "stream",
     "text": [
      "CPU times: user 3.66 s, sys: 258 ms, total: 3.92 s\n",
      "Wall time: 5.23 s\n",
      "CPU times: user 3.37 s, sys: 196 ms, total: 3.57 s\n",
      "Wall time: 3.57 s\n",
      "CPU times: user 4.94 s, sys: 838 ms, total: 5.78 s\n",
      "Wall time: 6.73 s\n",
      "CPU times: user 527 ms, sys: 63.5 ms, total: 590 ms\n",
      "Wall time: 715 ms\n",
      "CPU times: user 552 ms, sys: 131 ms, total: 683 ms\n",
      "Wall time: 700 ms\n"
     ]
    }
   ],
   "source": [
    "%load load_and_enrich.py"
   ]
  },
  {
   "cell_type": "code",
   "execution_count": 4,
   "metadata": {
    "collapsed": false
   },
   "outputs": [],
   "source": [
    "%load prepare_data_for_sklearn.py"
   ]
  },
  {
   "cell_type": "markdown",
   "metadata": {},
   "source": [
    "# Scoring"
   ]
  },
  {
   "cell_type": "markdown",
   "metadata": {},
   "source": [
    "## Train test split"
   ]
  },
  {
   "cell_type": "markdown",
   "metadata": {},
   "source": [
    "Let's split our train data in two"
   ]
  },
  {
   "cell_type": "code",
   "execution_count": 22,
   "metadata": {
    "collapsed": false
   },
   "outputs": [
    {
     "name": "stdout",
     "output_type": "stream",
     "text": [
      "CPU times: user 815 ms, sys: 70.4 ms, total: 886 ms\n",
      "Wall time: 884 ms\n"
     ]
    },
    {
     "data": {
      "text/html": [
       "<div>\n",
       "<table border=\"1\" class=\"dataframe\">\n",
       "  <thead>\n",
       "    <tr style=\"text-align: right;\">\n",
       "      <th></th>\n",
       "      <th>Hour</th>\n",
       "      <th>Month</th>\n",
       "      <th>Year</th>\n",
       "      <th>X</th>\n",
       "      <th>Y</th>\n",
       "      <th>DayOfWeek_0</th>\n",
       "      <th>DayOfWeek_1</th>\n",
       "      <th>DayOfWeek_2</th>\n",
       "      <th>DayOfWeek_3</th>\n",
       "      <th>DayOfWeek_4</th>\n",
       "      <th>DayOfWeek_5</th>\n",
       "      <th>DayOfWeek_6</th>\n",
       "    </tr>\n",
       "  </thead>\n",
       "  <tbody>\n",
       "    <tr>\n",
       "      <th>547090</th>\n",
       "      <td>18</td>\n",
       "      <td>8</td>\n",
       "      <td>2007</td>\n",
       "      <td>-122.419698</td>\n",
       "      <td>37.777301</td>\n",
       "      <td>0.0</td>\n",
       "      <td>0.0</td>\n",
       "      <td>0.0</td>\n",
       "      <td>1.0</td>\n",
       "      <td>0.0</td>\n",
       "      <td>0.0</td>\n",
       "      <td>0.0</td>\n",
       "    </tr>\n",
       "    <tr>\n",
       "      <th>172530</th>\n",
       "      <td>7</td>\n",
       "      <td>1</td>\n",
       "      <td>2013</td>\n",
       "      <td>-122.426153</td>\n",
       "      <td>37.760619</td>\n",
       "      <td>0.0</td>\n",
       "      <td>0.0</td>\n",
       "      <td>0.0</td>\n",
       "      <td>0.0</td>\n",
       "      <td>0.0</td>\n",
       "      <td>0.0</td>\n",
       "      <td>1.0</td>\n",
       "    </tr>\n",
       "    <tr>\n",
       "      <th>236119</th>\n",
       "      <td>22</td>\n",
       "      <td>3</td>\n",
       "      <td>2012</td>\n",
       "      <td>-122.413174</td>\n",
       "      <td>37.786719</td>\n",
       "      <td>0.0</td>\n",
       "      <td>0.0</td>\n",
       "      <td>0.0</td>\n",
       "      <td>0.0</td>\n",
       "      <td>0.0</td>\n",
       "      <td>1.0</td>\n",
       "      <td>0.0</td>\n",
       "    </tr>\n",
       "    <tr>\n",
       "      <th>153960</th>\n",
       "      <td>9</td>\n",
       "      <td>5</td>\n",
       "      <td>2013</td>\n",
       "      <td>-122.474445</td>\n",
       "      <td>37.718302</td>\n",
       "      <td>0.0</td>\n",
       "      <td>0.0</td>\n",
       "      <td>1.0</td>\n",
       "      <td>0.0</td>\n",
       "      <td>0.0</td>\n",
       "      <td>0.0</td>\n",
       "      <td>0.0</td>\n",
       "    </tr>\n",
       "    <tr>\n",
       "      <th>877258</th>\n",
       "      <td>22</td>\n",
       "      <td>1</td>\n",
       "      <td>2003</td>\n",
       "      <td>-122.435824</td>\n",
       "      <td>37.762553</td>\n",
       "      <td>0.0</td>\n",
       "      <td>1.0</td>\n",
       "      <td>0.0</td>\n",
       "      <td>0.0</td>\n",
       "      <td>0.0</td>\n",
       "      <td>0.0</td>\n",
       "      <td>0.0</td>\n",
       "    </tr>\n",
       "  </tbody>\n",
       "</table>\n",
       "</div>"
      ],
      "text/plain": [
       "        Hour  Month  Year           X          Y  DayOfWeek_0  DayOfWeek_1  \\\n",
       "547090    18      8  2007 -122.419698  37.777301          0.0          0.0   \n",
       "172530     7      1  2013 -122.426153  37.760619          0.0          0.0   \n",
       "236119    22      3  2012 -122.413174  37.786719          0.0          0.0   \n",
       "153960     9      5  2013 -122.474445  37.718302          0.0          0.0   \n",
       "877258    22      1  2003 -122.435824  37.762553          0.0          1.0   \n",
       "\n",
       "        DayOfWeek_2  DayOfWeek_3  DayOfWeek_4  DayOfWeek_5  DayOfWeek_6  \n",
       "547090          0.0          1.0          0.0          0.0          0.0  \n",
       "172530          0.0          0.0          0.0          0.0          1.0  \n",
       "236119          0.0          0.0          0.0          1.0          0.0  \n",
       "153960          1.0          0.0          0.0          0.0          0.0  \n",
       "877258          0.0          0.0          0.0          0.0          0.0  "
      ]
     },
     "execution_count": 22,
     "metadata": {},
     "output_type": "execute_result"
    }
   ],
   "source": [
    "from sklearn.cross_validation import train_test_split\n",
    "%time X_train,X_test,y_train,y_test =train_test_split(X,y,test_size=0.3)\n",
    "X_train.head()"
   ]
  },
  {
   "cell_type": "code",
   "execution_count": 21,
   "metadata": {
    "collapsed": false
   },
   "outputs": [
    {
     "name": "stdout",
     "output_type": "stream",
     "text": [
      "Number of sample in test: 263415\n",
      "Number of sample in train: 614634\n",
      "Computed Ratio: 0.300000\n"
     ]
    }
   ],
   "source": [
    "print(\"Number of sample in test: %d\" % len(X_test))\n",
    "print(\"Number of sample in train: %d\" % len(X_train))\n",
    "print(\"Computed Ratio: %f\" % (float(len(X_test))/(len(X_train) + len(X_test))))"
   ]
  },
  {
   "cell_type": "markdown",
   "metadata": {},
   "source": [
    "Now let's create a Random Forest Classifier"
   ]
  },
  {
   "cell_type": "code",
   "execution_count": 44,
   "metadata": {
    "collapsed": true
   },
   "outputs": [],
   "source": [
    "from sklearn.ensemble import RandomForestClassifier\n",
    "rf = RandomForestClassifier(n_estimators=10, criterion='gini', min_samples_split=2)"
   ]
  },
  {
   "cell_type": "markdown",
   "metadata": {},
   "source": [
    "## Fit"
   ]
  },
  {
   "cell_type": "markdown",
   "metadata": {},
   "source": [
    "And now let's train it"
   ]
  },
  {
   "cell_type": "code",
   "execution_count": 24,
   "metadata": {
    "collapsed": false
   },
   "outputs": [
    {
     "name": "stdout",
     "output_type": "stream",
     "text": [
      "CPU times: user 1min 26s, sys: 7.39 s, total: 1min 34s\n",
      "Wall time: 1min 36s\n"
     ]
    },
    {
     "data": {
      "text/plain": [
       "RandomForestClassifier(bootstrap=True, class_weight=None, criterion='gini',\n",
       "            max_depth=None, max_features='auto', max_leaf_nodes=None,\n",
       "            min_samples_leaf=1, min_samples_split=2,\n",
       "            min_weight_fraction_leaf=0.0, n_estimators=30, n_jobs=1,\n",
       "            oob_score=False, random_state=None, verbose=0,\n",
       "            warm_start=False)"
      ]
     },
     "execution_count": 24,
     "metadata": {},
     "output_type": "execute_result"
    }
   ],
   "source": [
    "%time rf.fit(X_train,y_train)"
   ]
  },
  {
   "cell_type": "markdown",
   "metadata": {},
   "source": [
    "## Predict"
   ]
  },
  {
   "cell_type": "markdown",
   "metadata": {},
   "source": [
    "And now let's predict on the retained data"
   ]
  },
  {
   "cell_type": "code",
   "execution_count": 25,
   "metadata": {
    "collapsed": false
   },
   "outputs": [
    {
     "name": "stdout",
     "output_type": "stream",
     "text": [
      "CPU times: user 10.8 s, sys: 14.2 s, total: 25.1 s\n",
      "Wall time: 1min 26s\n"
     ]
    }
   ],
   "source": [
    "%time y_pred = rf.predict(X_test)"
   ]
  },
  {
   "cell_type": "markdown",
   "metadata": {},
   "source": [
    "## Score"
   ]
  },
  {
   "cell_type": "markdown",
   "metadata": {},
   "source": [
    "Which score did I achieve on the test fold ?"
   ]
  },
  {
   "cell_type": "code",
   "execution_count": 27,
   "metadata": {
    "collapsed": false
   },
   "outputs": [
    {
     "name": "stdout",
     "output_type": "stream",
     "text": [
      "NB SAMPLE TESTED: 263415\n",
      "GOOD CLASSIFICATIONS: 72242\n",
      "ACURACY: 0.274252\n"
     ]
    }
   ],
   "source": [
    "%time score = rf.score(X_test, y_test)\n",
    "print(\"NB SAMPLE TESTED: %d\" % len(X_test))\n",
    "print(\"GOOD CLASSIFICATIONS: %d\" % np.sum(np.equal(y_pred, y_test)))\n",
    "print(\"ACURACY: %f\" % score)"
   ]
  },
  {
   "cell_type": "markdown",
   "metadata": {},
   "source": [
    "Actually Kaggle relies on the log loss. What is my log loss score ?"
   ]
  },
  {
   "cell_type": "markdown",
   "metadata": {},
   "source": [
    "## Logloss"
   ]
  },
  {
   "cell_type": "code",
   "execution_count": 28,
   "metadata": {
    "collapsed": false
   },
   "outputs": [
    {
     "name": "stdout",
     "output_type": "stream",
     "text": [
      "CPU times: user 10.4 s, sys: 11.5 s, total: 21.9 s\n",
      "Wall time: 26 s\n"
     ]
    }
   ],
   "source": [
    "%time y_pred_proba = rf.predict_proba(X_test)"
   ]
  },
  {
   "cell_type": "code",
   "execution_count": 30,
   "metadata": {
    "collapsed": false
   },
   "outputs": [
    {
     "name": "stdout",
     "output_type": "stream",
     "text": [
      "CPU times: user 2.43 s, sys: 191 ms, total: 2.62 s\n",
      "Wall time: 3.12 s\n",
      "LOG LOSS SCORE: 9.066396\n"
     ]
    }
   ],
   "source": [
    "from sklearn.metrics import log_loss\n",
    "\n",
    "%time score = log_loss(y_pred=y_pred_proba, y_true=y_test)\n",
    "print (\"LOG LOSS SCORE: %f\" % score)"
   ]
  },
  {
   "cell_type": "markdown",
   "metadata": {},
   "source": [
    "## Confusion Matrix"
   ]
  },
  {
   "cell_type": "code",
   "execution_count": 37,
   "metadata": {
    "collapsed": false
   },
   "outputs": [
    {
     "name": "stdout",
     "output_type": "stream",
     "text": [
      "CPU times: user 783 ms, sys: 19.8 ms, total: 803 ms\n",
      "Wall time: 806 ms\n"
     ]
    },
    {
     "data": {
      "text/plain": [
       "array([[28994,  5648,  4715, ...,     2,     0,     0],\n",
       "       [ 7621, 10505,  2991, ...,     5,     0,     0],\n",
       "       [ 9622,  4167,  5121, ...,     2,     0,     1],\n",
       "       ..., \n",
       "       [   10,     7,     2, ...,     4,     0,     0],\n",
       "       [    2,     0,     0, ...,     0,     0,     0],\n",
       "       [    0,     0,     0, ...,     0,     0,     0]])"
      ]
     },
     "execution_count": 37,
     "metadata": {},
     "output_type": "execute_result"
    }
   ],
   "source": [
    "from sklearn.metrics import confusion_matrix\n",
    "\n",
    "ordered_categories = list(train.Category.value_counts().index)\n",
    "%time confusion_m = confusion_matrix(y_test, y_pred, ordered_categories)\n",
    "confusion_m"
   ]
  },
  {
   "cell_type": "code",
   "execution_count": 43,
   "metadata": {
    "collapsed": false
   },
   "outputs": [
    {
     "data": {
      "image/png": "[encoded data removed]",
      "text/plain": [
       "<matplotlib.figure.Figure at 0x11bdfebe0>"
      ]
     },
     "metadata": {},
     "output_type": "display_data"
    }
   ],
   "source": [
    "import seaborn as sns\n",
    "from matplotlib import cm \n",
    "plt.figure(figsize=(20,10))\n",
    "sns.heatmap(confusion_m, linewidths=.5,xticklabels=ordered_categories,yticklabels=ordered_categories,cmap=cm.RdYlBu_r)\n",
    "plt.show()"
   ]
  },
  {
   "cell_type": "markdown",
   "metadata": {},
   "source": [
    "# Cross validation"
   ]
  },
  {
   "cell_type": "markdown",
   "metadata": {},
   "source": [
    "## Train testsplit"
   ]
  },
  {
   "cell_type": "code",
   "execution_count": 45,
   "metadata": {
    "collapsed": false
   },
   "outputs": [
    {
     "name": "stdout",
     "output_type": "stream",
     "text": [
      "CPU times: user 847 ms, sys: 238 ms, total: 1.08 s\n",
      "Wall time: 1.85 s\n"
     ]
    }
   ],
   "source": [
    "%time X_train,X_test,y_train,y_test =train_test_split(X,y,test_size=0.3)"
   ]
  },
  {
   "cell_type": "markdown",
   "metadata": {},
   "source": [
    "## Cross val score"
   ]
  },
  {
   "cell_type": "code",
   "execution_count": 47,
   "metadata": {
    "collapsed": false
   },
   "outputs": [
    {
     "name": "stdout",
     "output_type": "stream",
     "text": [
      "CPU times: user 2min 12s, sys: 21.2 s, total: 2min 33s\n",
      "Wall time: 2min 53s\n"
     ]
    },
    {
     "data": {
      "text/plain": [
       "array([ 0.24831221,  0.24983528,  0.24485662,  0.24731935,  0.24418283])"
      ]
     },
     "execution_count": 47,
     "metadata": {},
     "output_type": "execute_result"
    }
   ],
   "source": [
    "from sklearn.cross_validation import cross_val_score\n",
    "%time scores = cross_val_score(rf, X_train, y_train, cv=5, scoring='log_loss')\n",
    "scores"
   ]
  },
  {
   "cell_type": "code",
   "execution_count": 48,
   "metadata": {
    "collapsed": false
   },
   "outputs": [
    {
     "name": "stdout",
     "output_type": "stream",
     "text": [
      "MEAN 0.246901 / STD: 0.002114\n"
     ]
    }
   ],
   "source": [
    "print(\"MEAN %f / STD: %f\" % (np.mean(scores) ,np.std(scores)))"
   ]
  },
  {
   "cell_type": "markdown",
   "metadata": {},
   "source": [
    "# Optimal parameters search"
   ]
  },
  {
   "cell_type": "markdown",
   "metadata": {},
   "source": [
    "Is there a way to find the optimal parameters to get the best possible score ?    \n",
    "We now define the parameters we want to use for the optimization."
   ]
  },
  {
   "cell_type": "code",
   "execution_count": 49,
   "metadata": {
    "collapsed": true
   },
   "outputs": [],
   "source": [
    "params= [{\n",
    "    'n_estimators'      : [10],\n",
    "    'max_depth'         : [1,3,5],\n",
    "    'min_samples_split' : [2, 5, 10],\n",
    "    'criterion'         : [\"entropy\", \"gini\"],\n",
    "},]"
   ]
  },
  {
   "cell_type": "markdown",
   "metadata": {},
   "source": [
    "## GridSearchCV"
   ]
  },
  {
   "cell_type": "code",
   "execution_count": null,
   "metadata": {
    "collapsed": true
   },
   "outputs": [],
   "source": [
    "gs = GridSearchCV(rf, param_grid=params, scoring=\"log_loss\", cv=5)"
   ]
  },
  {
   "cell_type": "code",
   "execution_count": null,
   "metadata": {
    "collapsed": true
   },
   "outputs": [],
   "source": [
    "gs.fit(X_train, Y_train);pass"
   ]
  },
  {
   "cell_type": "code",
   "execution_count": null,
   "metadata": {
    "collapsed": true
   },
   "outputs": [],
   "source": [
    "print(\"Best score %s\",gs.best_score_)\n",
    "print(\"Best params %s\",gs.best_params_)"
   ]
  },
  {
   "cell_type": "markdown",
   "metadata": {},
   "source": [
    "## Predict with best estimator"
   ]
  },
  {
   "cell_type": "code",
   "execution_count": null,
   "metadata": {
    "collapsed": true
   },
   "outputs": [],
   "source": [
    "best_rf = gs.best_estimator_\n",
    "y_pred_proba = best_rf.predict_proba(X_test)\n",
    "print (\"LOG LOSS SCORE: %f\" % log_loss(y_pred=y_pred_proba, y_true=y_test))"
   ]
  },
  {
   "cell_type": "markdown",
   "metadata": {},
   "source": [
    "# Overfitting and underfitting detection"
   ]
  },
  {
   "cell_type": "markdown",
   "metadata": {},
   "source": [
    "## Learning curve"
   ]
  },
  {
   "cell_type": "code",
   "execution_count": null,
   "metadata": {
    "collapsed": false
   },
   "outputs": [],
   "source": [
    "from sklearn.learning_curve import learning_curve\n",
    "%time train_sizes, train_scores, test_scores = learning_curve(best_rf, X, y, cv=5)"
   ]
  },
  {
   "cell_type": "markdown",
   "metadata": {},
   "source": [
    "There seems to be a significant bias in our model"
   ]
  },
  {
   "cell_type": "code",
   "execution_count": null,
   "metadata": {
    "collapsed": true
   },
   "outputs": [],
   "source": [
    "plt.figure()\n",
    "plt.title(title)\n",
    "if ylim is not None:\n",
    "    plt.ylim(*ylim)\n",
    "plt.xlabel(\"Training examples\")\n",
    "plt.ylabel(\"Score\")\n",
    "train_scores_mean = np.mean(train_scores, axis=1)\n",
    "train_scores_std = np.std(train_scores, axis=1)\n",
    "test_scores_mean = np.mean(test_scores, axis=1)\n",
    "test_scores_std = np.std(test_scores, axis=1)\n",
    "plt.grid()\n",
    "\n",
    "plt.fill_between(train_sizes, train_scores_mean - train_scores_std,\n",
    "                 train_scores_mean + train_scores_std, alpha=0.1,\n",
    "                 color=\"r\")\n",
    "plt.fill_between(train_sizes, test_scores_mean - test_scores_std,\n",
    "                 test_scores_mean + test_scores_std, alpha=0.1, color=\"g\")\n",
    "plt.plot(train_sizes, train_scores_mean, 'o-', color=\"r\",\n",
    "         label=\"Training score\")\n",
    "plt.plot(train_sizes, test_scores_mean, 'o-', color=\"g\",\n",
    "         label=\"Cross-validation score\")\n",
    "\n",
    "plt.legend(loc=\"best\")\n",
    "plt.show()"
   ]
  },
  {
   "cell_type": "markdown",
   "metadata": {},
   "source": [
    "## Validation Curve"
   ]
  },
  {
   "cell_type": "code",
   "execution_count": 51,
   "metadata": {
    "collapsed": true
   },
   "outputs": [],
   "source": [
    "from sklearn.learning_curve import validation_curve"
   ]
  },
  {
   "cell_type": "code",
   "execution_count": null,
   "metadata": {
    "collapsed": true
   },
   "outputs": [],
   "source": [
    "train_scores, test_scores = validation_curve(rf, X, y, param_name=\"max_depth\", param_range =[2,5,10,15],\n",
    "        cv=5, scoring=\"log_loss\")"
   ]
  },
  {
   "cell_type": "code",
   "execution_count": null,
   "metadata": {
    "collapsed": true
   },
   "outputs": [],
   "source": [
    "plt.figure()\n",
    "plt.title(\"Validation Curve\")\n",
    "plt.plot(param_range, train_mean, color='blue', marker='o',markersize=5,label='training accuracy')\n",
    "plt.fill_between(param_range, train_mean + train_std, train_mean - train_std, alpha=0.15, color='blue')\n",
    "plt.plot(param_range, test_mean, color='green', linestyle='--',marker='s', markersize=5,label='validation accuracy')\n",
    "plt.fill_between(param_range,test_mean + test_std, test_mean - test_std, alpha=0.15, color='green')\n",
    "plt.grid()\n",
    "plt.xscale('log')\n",
    "plt.legend(loc='lower right')\n",
    "plt.xlabel('Parameter max_depth')\n",
    "plt.ylabel('Accuracy')\n",
    "plt.show()"
   ]
  },
  {
   "cell_type": "code",
   "execution_count": 52,
   "metadata": {
    "collapsed": false
   },
   "outputs": [
    {
     "data": {
      "application/json": {
       "Software versions": [
        {
         "module": "Python",
         "version": "3.5.1 64bit [GCC 4.2.1 (Apple Inc. build 5577)]"
        },
        {
         "module": "IPython",
         "version": "4.2.0"
        },
        {
         "module": "OS",
         "version": "Darwin 14.3.0 x86_64 i386 64bit"
        },
        {
         "module": "numpy",
         "version": "1.10.4"
        },
        {
         "module": "pandas",
         "version": "0.18.1"
        },
        {
         "module": "matplotlib",
         "version": "1.5.1"
        },
        {
         "module": "sklearn",
         "version": "0.17.1"
        },
        {
         "module": "seaborn",
         "version": "0.7.0"
        }
       ]
      },
      "text/html": [
       "<table><tr><th>Software</th><th>Version</th></tr><tr><td>Python</td><td>3.5.1 64bit [GCC 4.2.1 (Apple Inc. build 5577)]</td></tr><tr><td>IPython</td><td>4.2.0</td></tr><tr><td>OS</td><td>Darwin 14.3.0 x86_64 i386 64bit</td></tr><tr><td>numpy</td><td>1.10.4</td></tr><tr><td>pandas</td><td>0.18.1</td></tr><tr><td>matplotlib</td><td>1.5.1</td></tr><tr><td>sklearn</td><td>0.17.1</td></tr><tr><td>seaborn</td><td>0.7.0</td></tr><tr><td colspan='2'>Mon May 30 22:12:24 2016 BST</td></tr></table>"
      ],
      "text/latex": [
       "\\begin{tabular}{|l|l|}\\hline\n",
       "{\\bf Software} & {\\bf Version} \\\\ \\hline\\hline\n",
       "Python & 3.5.1 64bit [GCC 4.2.1 (Apple Inc. build 5577)] \\\\ \\hline\n",
       "IPython & 4.2.0 \\\\ \\hline\n",
       "OS & Darwin 14.3.0 x86\\_64 i386 64bit \\\\ \\hline\n",
       "numpy & 1.10.4 \\\\ \\hline\n",
       "pandas & 0.18.1 \\\\ \\hline\n",
       "matplotlib & 1.5.1 \\\\ \\hline\n",
       "sklearn & 0.17.1 \\\\ \\hline\n",
       "seaborn & 0.7.0 \\\\ \\hline\n",
       "\\hline \\multicolumn{2}{|l|}{Mon May 30 22:12:24 2016 BST} \\\\ \\hline\n",
       "\\end{tabular}\n"
      ],
      "text/plain": [
       "Software versions\n",
       "Python 3.5.1 64bit [GCC 4.2.1 (Apple Inc. build 5577)]\n",
       "IPython 4.2.0\n",
       "OS Darwin 14.3.0 x86_64 i386 64bit\n",
       "numpy 1.10.4\n",
       "pandas 0.18.1\n",
       "matplotlib 1.5.1\n",
       "sklearn 0.17.1\n",
       "seaborn 0.7.0\n",
       "Mon May 30 22:12:24 2016 BST"
      ]
     },
     "execution_count": 52,
     "metadata": {},
     "output_type": "execute_result"
    }
   ],
   "source": [
    "%load_ext version_information\n",
    "%version_information numpy,pandas,matplotlib,sklearn,seaborn"
   ]
  }
 ],
 "metadata": {
  "kernelspec": {
   "display_name": "Python 3",
   "language": "python",
   "name": "python3"
  },
  "language_info": {
   "codemirror_mode": {
    "name": "ipython",
    "version": 3
   },
   "file_extension": ".py",
   "mimetype": "text/x-python",
   "name": "python",
   "nbconvert_exporter": "python",
   "pygments_lexer": "ipython3",
   "version": "3.5.1"
  },
  "toc": {
   "toc_cell": true,
   "toc_number_sections": true,
   "toc_threshold": 6,
   "toc_window_display": true
  },
  "widgets": {
   "state": {},
   "version": "1.1.1"
  }
 },
 "nbformat": 4,
 "nbformat_minor": 0
}
