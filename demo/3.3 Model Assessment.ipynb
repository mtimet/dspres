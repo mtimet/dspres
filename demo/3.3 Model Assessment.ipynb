{
 "cells": [
  {
   "cell_type": "markdown",
   "metadata": {
    "toc": "true"
   },
   "source": [
    "# Table of Contents\n",
    " <p><div class=\"lev1\"><a href=\"#Scoring\"><span class=\"toc-item-num\">1&nbsp;&nbsp;</span>Scoring</a></div><div class=\"lev2\"><a href=\"#Train-test-split\"><span class=\"toc-item-num\">1.1&nbsp;&nbsp;</span>Train test split</a></div><div class=\"lev2\"><a href=\"#Fit\"><span class=\"toc-item-num\">1.2&nbsp;&nbsp;</span>Fit</a></div><div class=\"lev2\"><a href=\"#Predict\"><span class=\"toc-item-num\">1.3&nbsp;&nbsp;</span>Predict</a></div><div class=\"lev2\"><a href=\"#Score\"><span class=\"toc-item-num\">1.4&nbsp;&nbsp;</span>Score</a></div><div class=\"lev2\"><a href=\"#Logloss\"><span class=\"toc-item-num\">1.5&nbsp;&nbsp;</span>Logloss</a></div><div class=\"lev2\"><a href=\"#Confusion-Matrix\"><span class=\"toc-item-num\">1.6&nbsp;&nbsp;</span>Confusion Matrix</a></div><div class=\"lev1\"><a href=\"#Cross-validation\"><span class=\"toc-item-num\">2&nbsp;&nbsp;</span>Cross validation</a></div><div class=\"lev2\"><a href=\"#Train-testsplit\"><span class=\"toc-item-num\">2.1&nbsp;&nbsp;</span>Train testsplit</a></div><div class=\"lev2\"><a href=\"#Cross-val-score\"><span class=\"toc-item-num\">2.2&nbsp;&nbsp;</span>Cross val score</a></div><div class=\"lev1\"><a href=\"#Optimal-parameters-search\"><span class=\"toc-item-num\">3&nbsp;&nbsp;</span>Optimal parameters search</a></div><div class=\"lev2\"><a href=\"#GridSearchCV\"><span class=\"toc-item-num\">3.1&nbsp;&nbsp;</span>GridSearchCV</a></div><div class=\"lev2\"><a href=\"#Predict-with-best-estimator\"><span class=\"toc-item-num\">3.2&nbsp;&nbsp;</span>Predict with best estimator</a></div><div class=\"lev1\"><a href=\"#Overfitting-and-underfitting-detection\"><span class=\"toc-item-num\">4&nbsp;&nbsp;</span>Overfitting and underfitting detection</a></div><div class=\"lev2\"><a href=\"#Learning-curve\"><span class=\"toc-item-num\">4.1&nbsp;&nbsp;</span>Learning curve</a></div><div class=\"lev2\"><a href=\"#Validation-Curve\"><span class=\"toc-item-num\">4.2&nbsp;&nbsp;</span>Validation Curve</a></div>"
   ]
  },
  {
   "cell_type": "code",
   "execution_count": 5,
   "metadata": {
    "collapsed": false
   },
   "outputs": [
    {
     "name": "stdout",
     "output_type": "stream",
     "text": [
      "Wall time: 5 s\n",
      "Wall time: 4.45 s\n",
      "Wall time: 5.24 s\n",
      "Wall time: 1.63 s\n",
      "Wall time: 1.55 s\n"
     ]
    }
   ],
   "source": [
    "%load load_and_enrich.py"
   ]
  },
  {
   "cell_type": "code",
   "execution_count": 6,
   "metadata": {
    "collapsed": false
   },
   "outputs": [
    {
     "name": "stdout",
     "output_type": "stream",
     "text": [
      "Wall time: 480 ms\n",
      "Wall time: 515 ms\n"
     ]
    }
   ],
   "source": [
    "%load prepare_data_for_sklearn.py"
   ]
  },
  {
   "cell_type": "markdown",
   "metadata": {},
   "source": [
    "# Scoring"
   ]
  },
  {
   "cell_type": "markdown",
   "metadata": {},
   "source": [
    "## Train test split"
   ]
  },
  {
   "cell_type": "markdown",
   "metadata": {},
   "source": [
    "Let's split our train data in two"
   ]
  },
  {
   "cell_type": "code",
   "execution_count": 7,
   "metadata": {
    "collapsed": false
   },
   "outputs": [
    {
     "name": "stdout",
     "output_type": "stream",
     "text": [
      "Wall time: 1.23 s\n"
     ]
    },
    {
     "data": {
      "text/html": [
       "<div>\n",
       "<table border=\"1\" class=\"dataframe\">\n",
       "  <thead>\n",
       "    <tr style=\"text-align: right;\">\n",
       "      <th></th>\n",
       "      <th>Hour</th>\n",
       "      <th>Month</th>\n",
       "      <th>Year</th>\n",
       "      <th>X</th>\n",
       "      <th>Y</th>\n",
       "      <th>DayOfWeek_0</th>\n",
       "      <th>DayOfWeek_1</th>\n",
       "      <th>DayOfWeek_2</th>\n",
       "      <th>DayOfWeek_3</th>\n",
       "      <th>DayOfWeek_4</th>\n",
       "      <th>DayOfWeek_5</th>\n",
       "      <th>DayOfWeek_6</th>\n",
       "    </tr>\n",
       "  </thead>\n",
       "  <tbody>\n",
       "    <tr>\n",
       "      <th>563914</th>\n",
       "      <td>16</td>\n",
       "      <td>5</td>\n",
       "      <td>2007</td>\n",
       "      <td>-122.421973</td>\n",
       "      <td>37.775998</td>\n",
       "      <td>0</td>\n",
       "      <td>1</td>\n",
       "      <td>0</td>\n",
       "      <td>0</td>\n",
       "      <td>0</td>\n",
       "      <td>0</td>\n",
       "      <td>0</td>\n",
       "    </tr>\n",
       "    <tr>\n",
       "      <th>609986</th>\n",
       "      <td>18</td>\n",
       "      <td>9</td>\n",
       "      <td>2006</td>\n",
       "      <td>-122.387235</td>\n",
       "      <td>37.719401</td>\n",
       "      <td>0</td>\n",
       "      <td>1</td>\n",
       "      <td>0</td>\n",
       "      <td>0</td>\n",
       "      <td>0</td>\n",
       "      <td>0</td>\n",
       "      <td>0</td>\n",
       "    </tr>\n",
       "    <tr>\n",
       "      <th>260020</th>\n",
       "      <td>0</td>\n",
       "      <td>11</td>\n",
       "      <td>2011</td>\n",
       "      <td>-122.413233</td>\n",
       "      <td>37.766062</td>\n",
       "      <td>0</td>\n",
       "      <td>0</td>\n",
       "      <td>0</td>\n",
       "      <td>0</td>\n",
       "      <td>0</td>\n",
       "      <td>1</td>\n",
       "      <td>0</td>\n",
       "    </tr>\n",
       "    <tr>\n",
       "      <th>739259</th>\n",
       "      <td>23</td>\n",
       "      <td>11</td>\n",
       "      <td>2004</td>\n",
       "      <td>-122.430552</td>\n",
       "      <td>37.789323</td>\n",
       "      <td>0</td>\n",
       "      <td>0</td>\n",
       "      <td>0</td>\n",
       "      <td>1</td>\n",
       "      <td>0</td>\n",
       "      <td>0</td>\n",
       "      <td>0</td>\n",
       "    </tr>\n",
       "    <tr>\n",
       "      <th>305560</th>\n",
       "      <td>20</td>\n",
       "      <td>2</td>\n",
       "      <td>2011</td>\n",
       "      <td>-122.399618</td>\n",
       "      <td>37.780791</td>\n",
       "      <td>0</td>\n",
       "      <td>0</td>\n",
       "      <td>0</td>\n",
       "      <td>0</td>\n",
       "      <td>0</td>\n",
       "      <td>1</td>\n",
       "      <td>0</td>\n",
       "    </tr>\n",
       "  </tbody>\n",
       "</table>\n",
       "</div>"
      ],
      "text/plain": [
       "        Hour  Month  Year           X          Y  DayOfWeek_0  DayOfWeek_1  \\\n",
       "563914    16      5  2007 -122.421973  37.775998            0            1   \n",
       "609986    18      9  2006 -122.387235  37.719401            0            1   \n",
       "260020     0     11  2011 -122.413233  37.766062            0            0   \n",
       "739259    23     11  2004 -122.430552  37.789323            0            0   \n",
       "305560    20      2  2011 -122.399618  37.780791            0            0   \n",
       "\n",
       "        DayOfWeek_2  DayOfWeek_3  DayOfWeek_4  DayOfWeek_5  DayOfWeek_6  \n",
       "563914            0            0            0            0            0  \n",
       "609986            0            0            0            0            0  \n",
       "260020            0            0            0            1            0  \n",
       "739259            0            1            0            0            0  \n",
       "305560            0            0            0            1            0  "
      ]
     },
     "execution_count": 7,
     "metadata": {},
     "output_type": "execute_result"
    }
   ],
   "source": [
    "from sklearn.cross_validation import train_test_split\n",
    "%time X_train,X_test,y_train,y_test =train_test_split(X,y,test_size=0.3)\n",
    "X_train.head()"
   ]
  },
  {
   "cell_type": "code",
   "execution_count": 8,
   "metadata": {
    "collapsed": false
   },
   "outputs": [
    {
     "name": "stdout",
     "output_type": "stream",
     "text": [
      "Number of sample in test: 263415\n",
      "Number of sample in train: 614634\n",
      "Computed Ratio: 0.300000\n"
     ]
    }
   ],
   "source": [
    "print(\"Number of sample in test: %d\" % len(X_test))\n",
    "print(\"Number of sample in train: %d\" % len(X_train))\n",
    "print(\"Computed Ratio: %f\" % (float(len(X_test))/(len(X_train) + len(X_test))))"
   ]
  },
  {
   "cell_type": "markdown",
   "metadata": {},
   "source": [
    "Now let's create a Random Forest Classifier"
   ]
  },
  {
   "cell_type": "code",
   "execution_count": 9,
   "metadata": {
    "collapsed": true
   },
   "outputs": [],
   "source": [
    "from sklearn.ensemble import RandomForestClassifier\n",
    "rf = RandomForestClassifier(n_estimators=10, criterion='gini', min_samples_split=2)"
   ]
  },
  {
   "cell_type": "markdown",
   "metadata": {},
   "source": [
    "## Fit"
   ]
  },
  {
   "cell_type": "markdown",
   "metadata": {},
   "source": [
    "And now let's train it"
   ]
  },
  {
   "cell_type": "code",
   "execution_count": null,
   "metadata": {
    "collapsed": false
   },
   "outputs": [
    {
     "name": "stdout",
     "output_type": "stream",
     "text": [
      "Wall time: 49.4 s\n"
     ]
    },
    {
     "data": {
      "text/plain": [
       "RandomForestClassifier(bootstrap=True, class_weight=None, criterion='gini',\n",
       "            max_depth=None, max_features='auto', max_leaf_nodes=None,\n",
       "            min_samples_leaf=1, min_samples_split=2,\n",
       "            min_weight_fraction_leaf=0.0, n_estimators=10, n_jobs=1,\n",
       "            oob_score=False, random_state=None, verbose=0,\n",
       "            warm_start=False)"
      ]
     },
     "execution_count": 10,
     "metadata": {},
     "output_type": "execute_result"
    }
   ],
   "source": [
    "%time rf.fit(X_train,y_train)"
   ]
  },
  {
   "cell_type": "markdown",
   "metadata": {},
   "source": [
    "## Predict"
   ]
  },
  {
   "cell_type": "markdown",
   "metadata": {},
   "source": [
    "And now let's predict on the retained data"
   ]
  },
  {
   "cell_type": "code",
   "execution_count": null,
   "metadata": {
    "collapsed": false
   },
   "outputs": [],
   "source": [
    "%time y_pred = rf.predict(X_test)"
   ]
  },
  {
   "cell_type": "markdown",
   "metadata": {},
   "source": [
    "## Score"
   ]
  },
  {
   "cell_type": "markdown",
   "metadata": {},
   "source": [
    "Which score did I achieve on the test fold ?"
   ]
  },
  {
   "cell_type": "code",
   "execution_count": null,
   "metadata": {
    "collapsed": false
   },
   "outputs": [
    {
     "name": "stdout",
     "output_type": "stream",
     "text": [
      "Wall time: 6min 50s\n",
      "Parser   : 171 ms\n",
      "NB SAMPLE TESTED: 263415\n",
      "GOOD CLASSIFICATIONS: 67353\n",
      "ACURACY: 0.255692\n"
     ]
    }
   ],
   "source": [
    "%time score = rf.score(X_test, y_test)\n",
    "print(\"NB SAMPLE TESTED: %d\" % len(X_test))\n",
    "print(\"GOOD CLASSIFICATIONS: %d\" % np.sum(np.equal(y_pred, y_test)))\n",
    "print(\"ACURACY: %f\" % score)"
   ]
  },
  {
   "cell_type": "markdown",
   "metadata": {},
   "source": [
    "Actually Kaggle relies on the log loss. What is my log loss score ?"
   ]
  },
  {
   "cell_type": "markdown",
   "metadata": {},
   "source": [
    "## Logloss"
   ]
  },
  {
   "cell_type": "markdown",
   "metadata": {},
   "source": [
    "<img src=\"img\\log_loss.JPG\">"
   ]
  },
  {
   "cell_type": "code",
   "execution_count": null,
   "metadata": {
    "collapsed": false
   },
   "outputs": [
    {
     "name": "stdout",
     "output_type": "stream",
     "text": [
      "Wall time: 39.8 s\n"
     ]
    }
   ],
   "source": [
    "%time y_pred_proba = rf.predict_proba(X_test)"
   ]
  },
  {
   "cell_type": "code",
   "execution_count": null,
   "metadata": {
    "collapsed": false
   },
   "outputs": [
    {
     "name": "stdout",
     "output_type": "stream",
     "text": [
      "Wall time: 7.72 s\n",
      "Parser   : 121 ms\n",
      "LOG LOSS SCORE: 14.555956\n"
     ]
    }
   ],
   "source": [
    "from sklearn.metrics import log_loss\n",
    "\n",
    "%time score = log_loss(y_pred=y_pred_proba, y_true=y_test)\n",
    "print (\"LOG LOSS SCORE: %f\" % score)"
   ]
  },
  {
   "cell_type": "markdown",
   "metadata": {},
   "source": [
    "## Confusion Matrix"
   ]
  },
  {
   "cell_type": "code",
   "execution_count": null,
   "metadata": {
    "collapsed": false
   },
   "outputs": [
    {
     "name": "stdout",
     "output_type": "stream",
     "text": [
      "Wall time: 3.79 s\n"
     ]
    },
    {
     "data": {
      "text/plain": [
       "array([[25754,  5456,  4893, ...,     0,     0,     0],\n",
       "       [ 7192,  9390,  3087, ...,     4,     0,     0],\n",
       "       [ 8617,  3810,  4793, ...,     2,     0,     1],\n",
       "       ..., \n",
       "       [    9,    10,     3, ...,     3,     0,     0],\n",
       "       [    0,     0,     0, ...,     0,     0,     0],\n",
       "       [    0,     0,     0, ...,     0,     0,     0]])"
      ]
     },
     "execution_count": 15,
     "metadata": {},
     "output_type": "execute_result"
    }
   ],
   "source": [
    "from sklearn.metrics import confusion_matrix\n",
    "\n",
    "ordered_categories = list(train.Category.value_counts().index)\n",
    "%time confusion_m = confusion_matrix(y_test, y_pred, ordered_categories)\n",
    "confusion_m"
   ]
  },
  {
   "cell_type": "code",
   "execution_count": null,
   "metadata": {
    "collapsed": false
   },
   "outputs": [],
   "source": [
    "import seaborn as sns\n",
    "from matplotlib import cm \n",
    "plt.figure(figsize=(20,10))\n",
    "sns.heatmap(confusion_m, linewidths=.5,xticklabels=ordered_categories,yticklabels=ordered_categories,cmap=cm.RdYlBu_r)\n",
    "plt.show()"
   ]
  },
  {
   "cell_type": "markdown",
   "metadata": {},
   "source": [
    "# Cross validation"
   ]
  },
  {
   "cell_type": "markdown",
   "metadata": {},
   "source": [
    "## Train / test  split"
   ]
  },
  {
   "cell_type": "code",
   "execution_count": 45,
   "metadata": {
    "collapsed": false
   },
   "outputs": [
    {
     "name": "stdout",
     "output_type": "stream",
     "text": [
      "CPU times: user 847 ms, sys: 238 ms, total: 1.08 s\n",
      "Wall time: 1.85 s\n"
     ]
    }
   ],
   "source": [
    "%time X_train,X_test,y_train,y_test =train_test_split(X,y,test_size=0.3)"
   ]
  },
  {
   "cell_type": "markdown",
   "metadata": {},
   "source": [
    "## Cross val score"
   ]
  },
  {
   "cell_type": "markdown",
   "metadata": {},
   "source": [
    "<img src=\"img\\kfold.JPG\">"
   ]
  },
  {
   "cell_type": "code",
   "execution_count": 47,
   "metadata": {
    "collapsed": false
   },
   "outputs": [
    {
     "name": "stdout",
     "output_type": "stream",
     "text": [
      "CPU times: user 2min 12s, sys: 21.2 s, total: 2min 33s\n",
      "Wall time: 2min 53s\n"
     ]
    },
    {
     "data": {
      "text/plain": [
       "array([ 0.24831221,  0.24983528,  0.24485662,  0.24731935,  0.24418283])"
      ]
     },
     "execution_count": 47,
     "metadata": {},
     "output_type": "execute_result"
    }
   ],
   "source": [
    "from sklearn.cross_validation import cross_val_score\n",
    "%time scores = cross_val_score(rf, X_train, y_train, cv=5, scoring='log_loss')\n",
    "scores"
   ]
  },
  {
   "cell_type": "code",
   "execution_count": 48,
   "metadata": {
    "collapsed": false
   },
   "outputs": [
    {
     "name": "stdout",
     "output_type": "stream",
     "text": [
      "MEAN 0.246901 / STD: 0.002114\n"
     ]
    }
   ],
   "source": [
    "print(\"MEAN %f / STD: %f\" % (np.mean(scores) ,np.std(scores)))"
   ]
  },
  {
   "cell_type": "markdown",
   "metadata": {},
   "source": [
    "# Optimal parameters search"
   ]
  },
  {
   "cell_type": "markdown",
   "metadata": {},
   "source": [
    "Is there a way to find the optimal parameters to get the best possible score ?    \n",
    "We now define the parameters we want to use for the optimization."
   ]
  },
  {
   "cell_type": "code",
   "execution_count": 49,
   "metadata": {
    "collapsed": true
   },
   "outputs": [],
   "source": [
    "params= [{\n",
    "    'n_estimators'      : [10],\n",
    "    'max_depth'         : [1,3,5],\n",
    "    'min_samples_split' : [2, 5, 10],\n",
    "    'criterion'         : [\"entropy\", \"gini\"],\n",
    "},]"
   ]
  },
  {
   "cell_type": "markdown",
   "metadata": {},
   "source": [
    "## GridSearchCV"
   ]
  },
  {
   "cell_type": "code",
   "execution_count": null,
   "metadata": {
    "collapsed": true
   },
   "outputs": [],
   "source": [
    "gs = GridSearchCV(rf, param_grid=params, scoring=\"log_loss\", cv=5)"
   ]
  },
  {
   "cell_type": "code",
   "execution_count": null,
   "metadata": {
    "collapsed": true
   },
   "outputs": [],
   "source": [
    "gs.fit(X_train, Y_train);pass"
   ]
  },
  {
   "cell_type": "code",
   "execution_count": null,
   "metadata": {
    "collapsed": true
   },
   "outputs": [],
   "source": [
    "print(\"Best score %s\",gs.best_score_)\n",
    "print(\"Best params %s\",gs.best_params_)"
   ]
  },
  {
   "cell_type": "markdown",
   "metadata": {},
   "source": [
    "## Predict with best estimator"
   ]
  },
  {
   "cell_type": "code",
   "execution_count": null,
   "metadata": {
    "collapsed": true
   },
   "outputs": [],
   "source": [
    "best_rf = gs.best_estimator_\n",
    "y_pred_proba = best_rf.predict_proba(X_test)\n",
    "print (\"LOG LOSS SCORE: %f\" % log_loss(y_pred=y_pred_proba, y_true=y_test))"
   ]
  },
  {
   "cell_type": "markdown",
   "metadata": {},
   "source": [
    "# Overfitting and underfitting detection"
   ]
  },
  {
   "cell_type": "markdown",
   "metadata": {},
   "source": [
    "## Learning curve"
   ]
  },
  {
   "cell_type": "code",
   "execution_count": null,
   "metadata": {
    "collapsed": false
   },
   "outputs": [],
   "source": [
    "from sklearn.learning_curve import learning_curve\n",
    "%time train_sizes, train_scores, test_scores = learning_curve(best_rf, X, y, cv=5)"
   ]
  },
  {
   "cell_type": "markdown",
   "metadata": {},
   "source": [
    "There seems to be a significant bias in our model"
   ]
  },
  {
   "cell_type": "code",
   "execution_count": null,
   "metadata": {
    "collapsed": true
   },
   "outputs": [],
   "source": [
    "plt.figure()\n",
    "plt.title(title)\n",
    "if ylim is not None:\n",
    "    plt.ylim(*ylim)\n",
    "plt.xlabel(\"Training examples\")\n",
    "plt.ylabel(\"Score\")\n",
    "train_scores_mean = np.mean(train_scores, axis=1)\n",
    "train_scores_std = np.std(train_scores, axis=1)\n",
    "test_scores_mean = np.mean(test_scores, axis=1)\n",
    "test_scores_std = np.std(test_scores, axis=1)\n",
    "plt.grid()\n",
    "\n",
    "plt.fill_between(train_sizes, train_scores_mean - train_scores_std,\n",
    "                 train_scores_mean + train_scores_std, alpha=0.1,\n",
    "                 color=\"r\")\n",
    "plt.fill_between(train_sizes, test_scores_mean - test_scores_std,\n",
    "                 test_scores_mean + test_scores_std, alpha=0.1, color=\"g\")\n",
    "plt.plot(train_sizes, train_scores_mean, 'o-', color=\"r\",\n",
    "         label=\"Training score\")\n",
    "plt.plot(train_sizes, test_scores_mean, 'o-', color=\"g\",\n",
    "         label=\"Cross-validation score\")\n",
    "\n",
    "plt.legend(loc=\"best\")\n",
    "plt.show()"
   ]
  },
  {
   "cell_type": "markdown",
   "metadata": {},
   "source": [
    "## Validation Curve"
   ]
  },
  {
   "cell_type": "code",
   "execution_count": 51,
   "metadata": {
    "collapsed": true
   },
   "outputs": [],
   "source": [
    "from sklearn.learning_curve import validation_curve"
   ]
  },
  {
   "cell_type": "code",
   "execution_count": null,
   "metadata": {
    "collapsed": true
   },
   "outputs": [],
   "source": [
    "train_scores, test_scores = validation_curve(rf, X, y, param_name=\"max_depth\", param_range =[2,5,10,15],\n",
    "        cv=5, scoring=\"log_loss\")"
   ]
  },
  {
   "cell_type": "code",
   "execution_count": null,
   "metadata": {
    "collapsed": true
   },
   "outputs": [],
   "source": [
    "plt.figure()\n",
    "plt.title(\"Validation Curve\")\n",
    "plt.plot(param_range, train_mean, color='blue', marker='o',markersize=5,label='training accuracy')\n",
    "plt.fill_between(param_range, train_mean + train_std, train_mean - train_std, alpha=0.15, color='blue')\n",
    "plt.plot(param_range, test_mean, color='green', linestyle='--',marker='s', markersize=5,label='validation accuracy')\n",
    "plt.fill_between(param_range,test_mean + test_std, test_mean - test_std, alpha=0.15, color='green')\n",
    "plt.grid()\n",
    "plt.xscale('log')\n",
    "plt.legend(loc='lower right')\n",
    "plt.xlabel('Parameter max_depth')\n",
    "plt.ylabel('Accuracy')\n",
    "plt.show()"
   ]
  },
  {
   "cell_type": "code",
   "execution_count": 52,
   "metadata": {
    "collapsed": false
   },
   "outputs": [
    {
     "data": {
      "application/json": {
       "Software versions": [
        {
         "module": "Python",
         "version": "3.5.1 64bit [GCC 4.2.1 (Apple Inc. build 5577)]"
        },
        {
         "module": "IPython",
         "version": "4.2.0"
        },
        {
         "module": "OS",
         "version": "Darwin 14.3.0 x86_64 i386 64bit"
        },
        {
         "module": "numpy",
         "version": "1.10.4"
        },
        {
         "module": "pandas",
         "version": "0.18.1"
        },
        {
         "module": "matplotlib",
         "version": "1.5.1"
        },
        {
         "module": "sklearn",
         "version": "0.17.1"
        },
        {
         "module": "seaborn",
         "version": "0.7.0"
        }
       ]
      },
      "text/html": [
       "<table><tr><th>Software</th><th>Version</th></tr><tr><td>Python</td><td>3.5.1 64bit [GCC 4.2.1 (Apple Inc. build 5577)]</td></tr><tr><td>IPython</td><td>4.2.0</td></tr><tr><td>OS</td><td>Darwin 14.3.0 x86_64 i386 64bit</td></tr><tr><td>numpy</td><td>1.10.4</td></tr><tr><td>pandas</td><td>0.18.1</td></tr><tr><td>matplotlib</td><td>1.5.1</td></tr><tr><td>sklearn</td><td>0.17.1</td></tr><tr><td>seaborn</td><td>0.7.0</td></tr><tr><td colspan='2'>Mon May 30 22:12:24 2016 BST</td></tr></table>"
      ],
      "text/latex": [
       "\\begin{tabular}{|l|l|}\\hline\n",
       "{\\bf Software} & {\\bf Version} \\\\ \\hline\\hline\n",
       "Python & 3.5.1 64bit [GCC 4.2.1 (Apple Inc. build 5577)] \\\\ \\hline\n",
       "IPython & 4.2.0 \\\\ \\hline\n",
       "OS & Darwin 14.3.0 x86\\_64 i386 64bit \\\\ \\hline\n",
       "numpy & 1.10.4 \\\\ \\hline\n",
       "pandas & 0.18.1 \\\\ \\hline\n",
       "matplotlib & 1.5.1 \\\\ \\hline\n",
       "sklearn & 0.17.1 \\\\ \\hline\n",
       "seaborn & 0.7.0 \\\\ \\hline\n",
       "\\hline \\multicolumn{2}{|l|}{Mon May 30 22:12:24 2016 BST} \\\\ \\hline\n",
       "\\end{tabular}\n"
      ],
      "text/plain": [
       "Software versions\n",
       "Python 3.5.1 64bit [GCC 4.2.1 (Apple Inc. build 5577)]\n",
       "IPython 4.2.0\n",
       "OS Darwin 14.3.0 x86_64 i386 64bit\n",
       "numpy 1.10.4\n",
       "pandas 0.18.1\n",
       "matplotlib 1.5.1\n",
       "sklearn 0.17.1\n",
       "seaborn 0.7.0\n",
       "Mon May 30 22:12:24 2016 BST"
      ]
     },
     "execution_count": 52,
     "metadata": {},
     "output_type": "execute_result"
    }
   ],
   "source": [
    "%load_ext version_information\n",
    "%version_information numpy,pandas,matplotlib,sklearn,seaborn"
   ]
  }
 ],
 "metadata": {
  "kernelspec": {
   "display_name": "Python 2",
   "language": "python",
   "name": "python2"
  },
  "language_info": {
   "codemirror_mode": {
    "name": "ipython",
    "version": 2
   },
   "file_extension": ".py",
   "mimetype": "text/x-python",
   "name": "python",
   "nbconvert_exporter": "python",
   "pygments_lexer": "ipython2",
   "version": "2.7.11"
  },
  "toc": {
   "toc_cell": true,
   "toc_number_sections": true,
   "toc_threshold": 6,
   "toc_window_display": true
  },
  "widgets": {
   "state": {},
   "version": "1.1.1"
  }
 },
 "nbformat": 4,
 "nbformat_minor": 0
}
