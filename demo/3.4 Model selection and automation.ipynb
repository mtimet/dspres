{
 "cells": [
  {
   "cell_type": "markdown",
   "metadata": {},
   "source": [
    "# Table of Contents\n",
    " <p><div class=\"lev1\"><a href=\"#Stochastic-Gradient-Descent\"><span class=\"toc-item-num\">1&nbsp;&nbsp;</span>Stochastic Gradient Descent</a></div><div class=\"lev1\"><a href=\"#Gaussian-Naive-Bayes\"><span class=\"toc-item-num\">2&nbsp;&nbsp;</span>Gaussian Naive Bayes</a></div><div class=\"lev1\"><a href=\"#Logistic-Regresstion\"><span class=\"toc-item-num\">3&nbsp;&nbsp;</span>Logistic Regresstion</a></div><div class=\"lev1\"><a href=\"#Bernoulli-Naive-Bayes\"><span class=\"toc-item-num\">4&nbsp;&nbsp;</span>Bernoulli Naive Bayes</a></div><div class=\"lev1\"><a href=\"#Optimal-parameters-search\"><span class=\"toc-item-num\">5&nbsp;&nbsp;</span>Optimal parameters search</a></div>"
   ]
  },
  {
   "cell_type": "code",
   "execution_count": 20,
   "metadata": {
    "collapsed": false
   },
   "outputs": [
    {
     "name": "stdout",
     "output_type": "stream",
     "text": [
      "Wall time: 4.37 s\n",
      "Wall time: 4.23 s\n",
      "Wall time: 5.25 s\n",
      "Wall time: 1.35 s\n",
      "Wall time: 1.32 s\n"
     ]
    }
   ],
   "source": [
    "%load load_and_enrich.py"
   ]
  },
  {
   "cell_type": "code",
   "execution_count": 21,
   "metadata": {
    "collapsed": false
   },
   "outputs": [
    {
     "name": "stdout",
     "output_type": "stream",
     "text": [
      "Wall time: 333 ms\n",
      "Wall time: 328 ms\n"
     ]
    }
   ],
   "source": [
    "%load prepare_data_for_sklearn.py"
   ]
  },
  {
   "cell_type": "markdown",
   "metadata": {},
   "source": [
    "<a id='sgd'></a>\n",
    "# Stochastic Gradient Descent"
   ]
  },
  {
   "cell_type": "code",
   "execution_count": 22,
   "metadata": {
    "collapsed": false
   },
   "outputs": [],
   "source": [
    "from sklearn.linear_model import SGDClassifier\n",
    "from sklearn.pipeline import Pipeline\n",
    "from sklearn.preprocessing import StandardScaler\n",
    "\n",
    "sgd  = Pipeline([\n",
    "                    ('scl', StandardScaler()),\n",
    "                    ('clf', SGDClassifier(loss=\"log\", n_iter=5))\n",
    "                ])"
   ]
  },
  {
   "cell_type": "code",
   "execution_count": 23,
   "metadata": {
    "collapsed": false
   },
   "outputs": [
    {
     "name": "stdout",
     "output_type": "stream",
     "text": [
      "Wall time: 2min 24s\n"
     ]
    }
   ],
   "source": [
    "from sklearn.cross_validation import cross_val_score\n",
    "\n",
    "%time scores_sgd = cross_val_score(estimator=sgd, X=X, y=y, cv=3, scoring='log_loss')"
   ]
  },
  {
   "cell_type": "code",
   "execution_count": 24,
   "metadata": {
    "collapsed": false
   },
   "outputs": [
    {
     "name": "stdout",
     "output_type": "stream",
     "text": [
      "SCORES [-2.93735221 -2.75551821 -2.96660447]\n",
      "MEAN -2.886492 / STD: 0.093379\n"
     ]
    }
   ],
   "source": [
    "print(\"SCORES %s\"% scores_sgd)\n",
    "print(\"MEAN %f / STD: %f\" % (np.mean(scores_sgd) ,np.std(scores_sgd)))"
   ]
  },
  {
   "cell_type": "markdown",
   "metadata": {},
   "source": [
    "<a id='gnb'></a>\n",
    "# Gaussian Naive Bayes"
   ]
  },
  {
   "cell_type": "code",
   "execution_count": 25,
   "metadata": {
    "collapsed": true
   },
   "outputs": [],
   "source": [
    "from sklearn.naive_bayes import GaussianNB\n",
    "\n",
    "gnb = Pipeline([\n",
    "                    ('scl', StandardScaler()),\n",
    "                    ('clf', GaussianNB())\n",
    "                ])"
   ]
  },
  {
   "cell_type": "code",
   "execution_count": 27,
   "metadata": {
    "collapsed": false
   },
   "outputs": [
    {
     "name": "stdout",
     "output_type": "stream",
     "text": [
      "Wall time: 44.9 s\n"
     ]
    }
   ],
   "source": [
    "%time scores_gnb = cross_val_score(estimator= gnb, X=X, y=y, cv=3, scoring='log_loss')"
   ]
  },
  {
   "cell_type": "code",
   "execution_count": 28,
   "metadata": {
    "collapsed": false
   },
   "outputs": [
    {
     "name": "stdout",
     "output_type": "stream",
     "text": [
      "SCORES [-13.36153534 -14.69990706  -6.02848131]\n",
      "MEAN -11.363308 / STD: 3.811657\n"
     ]
    }
   ],
   "source": [
    "print(\"SCORES %s\"% scores_gnb)\n",
    "print(\"MEAN %f / STD: %f\" % (np.mean(scores_gnb) ,np.std(scores_gnb)))"
   ]
  },
  {
   "cell_type": "markdown",
   "metadata": {},
   "source": [
    "<a id='lr'></a>\n",
    "# Logistic Regresstion"
   ]
  },
  {
   "cell_type": "code",
   "execution_count": 29,
   "metadata": {
    "collapsed": true
   },
   "outputs": [],
   "source": [
    "from sklearn.linear_model import LogisticRegression\n",
    "\n",
    "lr = Pipeline([\n",
    "                    ('scl', StandardScaler()),\n",
    "                    ('clf', LogisticRegression())\n",
    "             ])"
   ]
  },
  {
   "cell_type": "code",
   "execution_count": 30,
   "metadata": {
    "collapsed": false
   },
   "outputs": [
    {
     "name": "stdout",
     "output_type": "stream",
     "text": [
      "Wall time: 11min 45s\n"
     ]
    }
   ],
   "source": [
    "%time scores_lr = cross_val_score(estimator= lr, X=X, y=y, cv=3, scoring='log_loss')"
   ]
  },
  {
   "cell_type": "code",
   "execution_count": 31,
   "metadata": {
    "collapsed": false
   },
   "outputs": [
    {
     "name": "stdout",
     "output_type": "stream",
     "text": [
      "SCORES [-2.78516235 -2.64205195 -2.84677934]\n",
      "MEAN -2.757998 / STD: 0.085758\n"
     ]
    }
   ],
   "source": [
    "print(\"SCORES %s\"% scores_lr)\n",
    "print(\"MEAN %f / STD: %f\" % (np.mean(scores_lr) ,np.std(scores_lr)))"
   ]
  },
  {
   "cell_type": "markdown",
   "metadata": {},
   "source": [
    "<a id='bnb'></a>\n",
    "# Bernoulli Naive Bayes"
   ]
  },
  {
   "cell_type": "code",
   "execution_count": 32,
   "metadata": {
    "collapsed": true
   },
   "outputs": [],
   "source": [
    "from sklearn.naive_bayes import BernoulliNB\n",
    "\n",
    "bnb  = Pipeline([\n",
    "                    ('scl', StandardScaler()),\n",
    "                    ('clf', BernoulliNB())\n",
    "                ])"
   ]
  },
  {
   "cell_type": "code",
   "execution_count": 33,
   "metadata": {
    "collapsed": false
   },
   "outputs": [
    {
     "name": "stdout",
     "output_type": "stream",
     "text": [
      "Wall time: 45.3 s\n"
     ]
    }
   ],
   "source": [
    "%time scores_bnb = cross_val_score(estimator= bnb, X=X, y=y, cv=3, scoring='log_loss')"
   ]
  },
  {
   "cell_type": "code",
   "execution_count": 34,
   "metadata": {
    "collapsed": false
   },
   "outputs": [
    {
     "name": "stdout",
     "output_type": "stream",
     "text": [
      "SCORES [-2.67453388 -2.64141379 -2.65896786]\n",
      "MEAN -2.658305 / STD: 0.013529\n"
     ]
    }
   ],
   "source": [
    "print(\"SCORES %s\"% scores_bnb)\n",
    "print(\"MEAN %f / STD: %f\" % (np.mean(scores_bnb) ,np.std(scores_bnb)))"
   ]
  },
  {
   "cell_type": "markdown",
   "metadata": {},
   "source": [
    "<a id='params'></a>\n",
    "# Optimal parameters search"
   ]
  },
  {
   "cell_type": "code",
   "execution_count": 43,
   "metadata": {
    "collapsed": true
   },
   "outputs": [],
   "source": [
    "params = [\n",
    "               {\n",
    "                'C'      : [0.001, 0.1, 1, 10, 100]\n",
    "               }\n",
    "        ]"
   ]
  },
  {
   "cell_type": "code",
   "execution_count": null,
   "metadata": {
    "collapsed": false
   },
   "outputs": [],
   "source": [
    "from sklearn.grid_search import GridSearchCV\n",
    "\n",
    "gs = GridSearchCV(estimator=LogisticRegression(),\n",
    "                  param_grid=params,\n",
    "                  scoring=\"log_loss\",\n",
    "                  cv=2)"
   ]
  },
  {
   "cell_type": "code",
   "execution_count": 38,
   "metadata": {
    "collapsed": false
   },
   "outputs": [
    {
     "name": "stdout",
     "output_type": "stream",
     "text": [
      "Wall time: 27min 20s\n"
     ]
    },
    {
     "data": {
      "text/plain": [
       "GridSearchCV(cv=2, error_score='raise',\n",
       "       estimator=LogisticRegression(C=1.0, class_weight=None, dual=False, fit_intercept=True,\n",
       "          intercept_scaling=1, max_iter=100, multi_class='ovr', n_jobs=1,\n",
       "          penalty='l2', random_state=None, solver='liblinear', tol=0.0001,\n",
       "          verbose=0, warm_start=False),\n",
       "       fit_params={}, iid=True, n_jobs=1,\n",
       "       param_grid=[{'C': [0.001, 0.01, 0.1, 1]}], pre_dispatch='2*n_jobs',\n",
       "       refit=True, scoring='log_loss', verbose=0)"
      ]
     },
     "execution_count": 38,
     "metadata": {},
     "output_type": "execute_result"
    }
   ],
   "source": [
    "%time gs.fit(X, y)"
   ]
  },
  {
   "cell_type": "code",
   "execution_count": 39,
   "metadata": {
    "collapsed": false
   },
   "outputs": [
    {
     "name": "stdout",
     "output_type": "stream",
     "text": [
      "Best score %s -2.67294796822\n",
      "Best params %s {'C': 0.001}\n"
     ]
    }
   ],
   "source": [
    "print(\"Best score %s\",gs.best_score_)\n",
    "print(\"Best params %s\",gs.best_params_)"
   ]
  },
  {
   "cell_type": "code",
   "execution_count": 41,
   "metadata": {
    "collapsed": false
   },
   "outputs": [
    {
     "name": "stdout",
     "output_type": "stream",
     "text": [
      "Wall time: 9min 12s\n"
     ]
    }
   ],
   "source": [
    "%time scores_best_estimator = cross_val_score(estimator=gs.best_estimator_, X=X, y=y, cv=3, scoring='log_loss')"
   ]
  },
  {
   "cell_type": "code",
   "execution_count": 42,
   "metadata": {
    "collapsed": false
   },
   "outputs": [
    {
     "name": "stdout",
     "output_type": "stream",
     "text": [
      "SCORES [-2.68077118 -2.67229784 -2.68233869]\n",
      "MEAN -2.678469 / STD: 0.004411\n"
     ]
    }
   ],
   "source": [
    "print(\"SCORES %s\"% scores_best_estimator)\n",
    "print(\"MEAN %f / STD: %f\" % (np.mean(scores_best_estimator) ,np.std(scores_best_estimator)))"
   ]
  }
 ],
 "metadata": {
  "kernelspec": {
   "display_name": "Python 2",
   "language": "python",
   "name": "python2"
  },
  "language_info": {
   "codemirror_mode": {
    "name": "ipython",
    "version": 2
   },
   "file_extension": ".py",
   "mimetype": "text/x-python",
   "name": "python",
   "nbconvert_exporter": "python",
   "pygments_lexer": "ipython2",
   "version": "2.7.11"
  }
 },
 "nbformat": 4,
 "nbformat_minor": 0
}
