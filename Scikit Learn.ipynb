{
 "cells": [
  {
   "cell_type": "code",
   "execution_count": null,
   "metadata": {
    "collapsed": true
   },
   "outputs": [],
   "source": [
    "from __future__ import print_function\n",
    "\n",
    "import numpy as np\n",
    "import pandas as pd\n",
    "from datetime import datetime\n",
    "import matplotlib.pyplot as plt\n",
    "\n",
    "plt.style.use('ggplot')\n",
    "%matplotlib notebook"
   ]
  },
  {
   "cell_type": "code",
   "execution_count": null,
   "metadata": {
    "collapsed": false
   },
   "outputs": [],
   "source": [
    "# Load data into dataframes\n",
    "%time train = pd.read_csv(r'data/train.csv')\n",
    "%time test = pd.read_csv(r'data/test.csv')\n"
   ]
  },
  {
   "cell_type": "code",
   "execution_count": null,
   "metadata": {
    "collapsed": false
   },
   "outputs": [],
   "source": [
    "#Enrich\n",
    "def enrich(df):\n",
    "    #remove outliers\n",
    "    df['Dates'] = pd.to_datetime(df.Dates)\n",
    "\n",
    "    #turn dates into np.datetime64\n",
    "    \n",
    "    df['Hour'] = df.Dates.dt.hour\n",
    "    df['Year'] = df.Dates.dt.year\n",
    "    df['Month'] = df.Dates.dt.month\n",
    "    df['DayOfWeek'] = df.Dates.dt.dayofweek\n",
    "    df['Day'] = df.Dates.dt.day\n",
    "    df['DayDates'] = df.Dates.dt.date #actual date without the hours\n",
    "    df['MonthlyDates'] = df.Dates.map(lambda dt: datetime(dt.year, dt.month, 1))\n",
    "    \n",
    "    df = df[df.Y<40]\n",
    "    \n",
    "%time enrich(train)\n",
    "%time enrich(test)"
   ]
  },
  {
   "cell_type": "code",
   "execution_count": null,
   "metadata": {
    "collapsed": false
   },
   "outputs": [],
   "source": [
    "def build_data_for_sklearn(df, is_target=False):\n",
    "    x_columns = ['Hour','DayOfWeek','Day','Month','Year','X','Y']\n",
    "    y_column = 'Category'\n",
    "    \n",
    "    #x_columns = ['Hour','DayOfWeek','Day','Month','Year','X','Y','Resolution']\n",
    "    \n",
    "    #categorical_columns = ['Category','Resolution']\n",
    "    #categorical_columns = ['Resolution']\n",
    "\n",
    "    #x_data = pd.get_dummies(df[x_columns],columns=categorical_columns)\n",
    "    \n",
    "    x_data = df[x_columns]\n",
    "    y_data = None if is_target else df[y_column].values\n",
    "    \n",
    "    return x_data, y_data"
   ]
  },
  {
   "cell_type": "code",
   "execution_count": null,
   "metadata": {
    "collapsed": false
   },
   "outputs": [],
   "source": [
    "%time x_data,y_data = build_data_for_sklearn(train)"
   ]
  },
  {
   "cell_type": "code",
   "execution_count": null,
   "metadata": {
    "collapsed": false
   },
   "outputs": [],
   "source": [
    "print(x_data.shape)\n",
    "print(y_data.shape)"
   ]
  },
  {
   "cell_type": "markdown",
   "metadata": {
    "collapsed": true
   },
   "source": [
    "# Random Forest"
   ]
  },
  {
   "cell_type": "code",
   "execution_count": null,
   "metadata": {
    "collapsed": false
   },
   "outputs": [],
   "source": [
    "from sklearn import ensemble\n",
    "rf = ensemble.RandomForestClassifier(n_jobs=-1)"
   ]
  },
  {
   "cell_type": "code",
   "execution_count": null,
   "metadata": {
    "collapsed": false
   },
   "outputs": [],
   "source": [
    "%time rf.fit(x_data, y_data)"
   ]
  },
  {
   "cell_type": "code",
   "execution_count": null,
   "metadata": {
    "collapsed": false
   },
   "outputs": [],
   "source": [
    "x_target, dummy= build_data_for_sklearn(test,is_target=True)\n",
    "x_target.shape"
   ]
  },
  {
   "cell_type": "code",
   "execution_count": null,
   "metadata": {
    "collapsed": false
   },
   "outputs": [],
   "source": [
    "y_target = rf.predict(x_target)\n",
    "y_target"
   ]
  },
  {
   "cell_type": "markdown",
   "metadata": {},
   "source": [
    "  # Prepare submission  "
   ]
  },
  {
   "cell_type": "code",
   "execution_count": null,
   "metadata": {
    "collapsed": false
   },
   "outputs": [],
   "source": [
    "%time sampleSubmission = pd.read_csv(r'data/sampleSubmission.csv')\n",
    "sampleSubmission.columns"
   ]
  },
  {
   "cell_type": "code",
   "execution_count": null,
   "metadata": {
    "collapsed": false
   },
   "outputs": [],
   "source": [
    "tosubmit = pd.DataFrame({'Id' : test.Id.values, '' : y_target})\n",
    "#tosubmit.set_index('Id',inplace=True)\n",
    "tosubmit.head().T"
   ]
  },
  {
   "cell_type": "code",
   "execution_count": null,
   "metadata": {
    "collapsed": false
   },
   "outputs": [],
   "source": [
    "tosubmit = pd.get_dummies(tosubmit,prefix_sep='')\n",
    "print(len(tosubmit.columns))\n",
    "tosubmit.head()"
   ]
  },
  {
   "cell_type": "code",
   "execution_count": null,
   "metadata": {
    "collapsed": false
   },
   "outputs": [],
   "source": [
    "categories = sorted(train.Category.unique())\n",
    "for cat in categories:\n",
    "    if cat not in tosubmit:\n",
    "        print('adding null column for category:%s'%cat)\n",
    "        tosubmit[cat]=0"
   ]
  },
  {
   "cell_type": "code",
   "execution_count": null,
   "metadata": {
    "collapsed": false
   },
   "outputs": [],
   "source": [
    "tosubmit = tosubmit[sampleSubmission.columns]\n",
    "if len(tosubmit.columns) != (len(categories)+1):\n",
    "    print('submit data is inconsistent with categories passed')"
   ]
  },
  {
   "cell_type": "code",
   "execution_count": null,
   "metadata": {
    "collapsed": false
   },
   "outputs": [],
   "source": [
    "# tosubmit.to_csv(r'data\\rf_20160517.csv',index=False)\n",
    "# !explorer data"
   ]
  },
  {
   "cell_type": "markdown",
   "metadata": {
    "collapsed": true
   },
   "source": [
    "# Cross Validation"
   ]
  },
  {
   "cell_type": "code",
   "execution_count": null,
   "metadata": {
    "collapsed": false
   },
   "outputs": [],
   "source": [
    "from sklearn.cross_validation import cross_val_score, StratifiedKFold\n",
    "from sklearn.ensemble import RandomForestClassifier\n",
    "\n",
    "%time cv=StratifiedKFold(y_data,n_folds=5)\n",
    "%time scores = cross_val_score(RandomForestClassifier(n_jobs=-1,n_estimators=20),x_data,y_data,cv=cv)\n",
    "scores"
   ]
  }
 ],
 "metadata": {
  "kernelspec": {
   "display_name": "Python 3",
   "language": "python",
   "name": "python3"
  },
  "language_info": {
   "codemirror_mode": {
    "name": "ipython",
    "version": 3
   },
   "file_extension": ".py",
   "mimetype": "text/x-python",
   "name": "python",
   "nbconvert_exporter": "python",
   "pygments_lexer": "ipython3",
   "version": "3.5.1"
  },
  "widgets": {
   "state": {},
   "version": "1.1.1"
  }
 },
 "nbformat": 4,
 "nbformat_minor": 0
}
