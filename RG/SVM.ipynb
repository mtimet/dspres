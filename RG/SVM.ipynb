{
 "cells": [
  {
   "cell_type": "code",
   "execution_count": 6,
   "metadata": {
    "collapsed": false
   },
   "outputs": [],
   "source": [
    "import pandas as pd\n",
    "import numpy as np\n",
    "import os\n",
    "import matplotlib.pyplot as plt\n",
    "import datetime as dt\n",
    "from sklearn.preprocessing import LabelEncoder\n",
    "from sklearn.preprocessing import StandardScaler\n",
    "from sklearn.svm import SVC\n",
    "from sklearn.cross_validation import train_test_split\n",
    "from sklearn.cross_validation import cross_val_score\n",
    "from sklearn.pipeline import Pipeline\n",
    "from sklearn.metrics import confusion_matrix\n",
    "%matplotlib notebook"
   ]
  },
  {
   "cell_type": "code",
   "execution_count": 3,
   "metadata": {
    "collapsed": true
   },
   "outputs": [],
   "source": [
    "DATA_DIR = \".\\\\data\"\n",
    "SUBMISSION_DIR = \".\\\\submission\"\n",
    "TRAINING_FILE_NAME = \"train.csv\"\n",
    "TEST_FILE_NAME = \"test.csv\"\n",
    "SUBMISSION_FILE_NAME = \"sampleSubmission.csv\"\n",
    "TRAINING_FILE_FULL_NAME = os.path.join(DATA_DIR, TRAINING_FILE_NAME)\n",
    "TEST_FILE_FULL_NAME = os.path.join(DATA_DIR, TEST_FILE_NAME)\n",
    "SUBMISSION_FILE_FULL_NAME = os.path.join(DATA_DIR, SUBMISSION_FILE_NAME)"
   ]
  },
  {
   "cell_type": "code",
   "execution_count": null,
   "metadata": {
    "collapsed": false
   },
   "outputs": [],
   "source": [
    "class Processor(object):\n",
    "    @staticmethod\n",
    "    def get_df(fileName):\n",
    "        df = pd.read_csv(fileName,parse_dates=[\"Dates\"])\n",
    "        df[\"year\"] = df[\"Dates\"].dt.year\n",
    "        df[\"month\"] = df[\"Dates\"].dt.month\n",
    "        df[\"day\"] = df[\"Dates\"].dt.day\n",
    "        df[\"hour\"] = df[\"Dates\"].dt.hour\n",
    "        df[\"minute\"] = df[\"Dates\"].dt.minute\n",
    "        return df\n",
    "    \n",
    "    @staticmethod\n",
    "    def format_df(df):\n",
    "        df_train = pd.get_dummies(df[[\"DayOfWeek\"]])\n",
    "        df_train[\"year\"] = df[\"year\"]\n",
    "        df_train[\"month\"] = df[\"month\"]\n",
    "        df_train[\"hour\"] = df[\"hour\"]\n",
    "        df_train[\"minute\"] = df[\"minute\"]\n",
    "        if 'Category' in df.columns:\n",
    "            df_train[\"Category\"] = df[\"Category\"]\n",
    "        df_train[\"X\"] = df[\"X\"]\n",
    "        df_train[\"Y\"] = df[\"Y\"]\n",
    "\n",
    "        return df_train\n",
    "    \n",
    "    @staticmethod\n",
    "    def get_train_test_data(df, size=0, rdm_state=0):\n",
    "        Y = df.Category.values\n",
    "        df_train = df.drop(labels=\"Category\", axis=1)\n",
    "        X = df_train[df_train.columns.values].values\n",
    "        X_train, X_test, Y_train, Y_test = train_test_split(X,Y,test_size=size,random_state=rdm_state)\n",
    "        return (X_train, X_test, Y_train, Y_test)\n",
    "    \n",
    "    @staticmethod\n",
    "    def scale_data(X, sc=None, fit=True):\n",
    "        if sc is None:\n",
    "            sc = StandardScaler()\n",
    "        if fit==True:\n",
    "            sc.fit(X)\n",
    "        return sc.transform(X),sc\n",
    "    \n",
    "    @staticmethod\n",
    "    def generate_csv(csv_target_name, csv_template_name, Y):\n",
    "        df_sub = pd.read_csv(csv_template_name, index_col=0)\n",
    "        columns = df_sub.columns.values.tolist()\n",
    "        for i in df_sub.index.values:\n",
    "            v = Y[i]\n",
    "            index = columns.index(v)\n",
    "            values = np.zeros(len(columns))\n",
    "            values[index] = 1\n",
    "            df_sub.iloc[i] = values\n",
    "        \n",
    "        df_sub.to_csv(csv_target_name)\n",
    "    \n",
    "    @staticmethod\n",
    "    def plot_conf_matrix(Y_test, Y_pred):\n",
    "        labels = np.unique(Y_test)\n",
    "        cm = confusion_matrix(Y_test, Y_pred, labels)\n",
    "        plt.figure(figsize=(15,15))\n",
    "        plt.imshow(cm, interpolation='nearest', cmap=plt.cm.Blues)\n",
    "        plt.title('Confusion matrix')\n",
    "        plt.colorbar()\n",
    "        tick_marks = np.arange(len(labels))\n",
    "        plt.xticks(tick_marks, labels, rotation=90)\n",
    "        plt.yticks(tick_marks, labels)\n",
    "        plt.tight_layout()\n",
    "        plt.ylabel('True label')\n",
    "        plt.xlabel('Predicted label')"
   ]
  },
  {
   "cell_type": "markdown",
   "metadata": {},
   "source": [
    "## I Linear kernel SVM"
   ]
  },
  {
   "cell_type": "code",
   "execution_count": null,
   "metadata": {
    "collapsed": false
   },
   "outputs": [],
   "source": [
    "p_svm = p_operations = Pipeline([('scl', StandardScaler()),\n",
    "                                 ('clf', SVC(kernel=\"linear\",C=1.0, random_state=0))\n",
    "                                ])\n",
    "df_train = Processor.get_df(TRAINING_FILE_FULL_NAME)\n",
    "df_train = Processor.format_df(df_train)\n",
    "%time X_train , X_test, Y_train, Y_test = Processor.get_train_test_data(df_train,TEST_RATIO,0)\n",
    "%time scores = cross_val_score(estimator=p_svm, X=X_train, y=Y_train, cv=3, n_jobs=1)\n",
    "print(\"acuracy %s\", scores)\n",
    "print(\"mean %f / std: %f\", np.mean(scores),np.std(scores))"
   ]
  },
  {
   "cell_type": "markdown",
   "metadata": {},
   "source": [
    "## II SVM with RBF kernel"
   ]
  },
  {
   "cell_type": "code",
   "execution_count": 12,
   "metadata": {
    "collapsed": false
   },
   "outputs": [
    {
     "name": "stdout",
     "output_type": "stream",
     "text": [
      "Wall time: 301 ms\n",
      "('Missclassifications: %d', 233587)\n",
      "('Acuracy: %f', 0.11323576865402502)\n"
     ]
    }
   ],
   "source": [
    "p_svm_rbf = p_operations = Pipeline([('scl', StandardScaler()),\n",
    "                                     ('clf', SVC(kernel=\"rbf\",C=10.0, gamma=0.1, random_state=0))\n",
    "                                    ])\n",
    "df_train = Processor.get_df(TRAINING_FILE_FULL_NAME)\n",
    "df_train = Processor.format_df(df_train)\n",
    "%time X_train , X_test, Y_train, Y_test = Processor.get_train_test_data(df_train,TEST_RATIO,0)\n",
    "%time scores_svm_rbf = cross_val_score(estimator=p_svm_rbf, X=X_train, y=Y_train, cv=3, n_jobs=1)\n",
    "print(\"acuracy %s\", scores_svm_rbf)\n",
    "print(\"mean %f / std: %f\", np.mean(scores_svm_rbf),np.std(scores_svm_rbf))"
   ]
  },
  {
   "cell_type": "markdown",
   "metadata": {
    "collapsed": false
   },
   "source": [
    "## II- Linear SVM"
   ]
  },
  {
   "cell_type": "code",
   "execution_count": null,
   "metadata": {
    "collapsed": true
   },
   "outputs": [],
   "source": [
    "p_svm_linear = p_operations = Pipeline([('scl', StandardScaler()),\n",
    "                                        ('clf', SVC(C=1))\n",
    "                                       ])\n",
    "df_train = Processor.get_df(TRAINING_FILE_FULL_NAME)\n",
    "df_train = Processor.format_df(df_train)\n",
    "%time X_train , X_test, Y_train, Y_test = Processor.get_train_test_data(df_train,TEST_RATIO,0)\n",
    "%time scores_svm_linear= cross_val_score(estimator=p_svm_linear, X=X_train, y=Y_train, cv=3, n_jobs=1)\n",
    "print(\"acuracy %s\", scores_svm_linear)\n",
    "print(\"mean %f / std: %f\", np.mean(scores_svm_linear),np.std(scores_svm_linear))"
   ]
  }
 ],
 "metadata": {
  "kernelspec": {
   "display_name": "Python 2",
   "language": "python",
   "name": "python2"
  },
  "language_info": {
   "codemirror_mode": {
    "name": "ipython",
    "version": 2
   },
   "file_extension": ".py",
   "mimetype": "text/x-python",
   "name": "python",
   "nbconvert_exporter": "python",
   "pygments_lexer": "ipython2",
   "version": "2.7.10"
  }
 },
 "nbformat": 4,
 "nbformat_minor": 0
}
