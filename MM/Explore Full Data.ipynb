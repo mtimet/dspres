{
 "cells": [
  {
   "cell_type": "markdown",
   "metadata": {
    "urth": {
     "dashboard": {
      "layout": {}
     }
    }
   },
   "source": [
    "Exploring full data Loaded from [sfdata site](https://data.sfgov.org/Public-Safety/SFPD-Incidents-from-1-January-2003/tmnf-yvry)"
   ]
  },
  {
   "cell_type": "code",
   "execution_count": 1,
   "metadata": {
    "collapsed": true,
    "urth": {
     "dashboard": {
      "hidden": true,
      "layout": {}
     }
    }
   },
   "outputs": [],
   "source": [
    "import numpy as np\n",
    "import pandas as pd\n",
    "import matplotlib.pyplot as plt\n",
    "plt.style.use('ggplot')\n",
    "%matplotlib inline"
   ]
  },
  {
   "cell_type": "code",
   "execution_count": 2,
   "metadata": {
    "collapsed": false,
    "urth": {
     "dashboard": {
      "layout": {}
     }
    }
   },
   "outputs": [
    {
     "name": "stdout",
     "output_type": "stream",
     "text": [
      "CPU times: user 9.17 s, sys: 916 ms, total: 10.1 s\n",
      "Wall time: 17.2 s\n"
     ]
    }
   ],
   "source": [
    "%time full = pd.read_csv(r'data/SFPD_Incidents_-_from_1_January_2003.csv')"
   ]
  },
  {
   "cell_type": "code",
   "execution_count": 3,
   "metadata": {
    "collapsed": false,
    "urth": {
     "dashboard": {
      "layout": {}
     }
    }
   },
   "outputs": [
    {
     "data": {
      "text/plain": [
       "1912913"
      ]
     },
     "execution_count": 3,
     "metadata": {},
     "output_type": "execute_result"
    }
   ],
   "source": [
    "len(full)"
   ]
  },
  {
   "cell_type": "code",
   "execution_count": 4,
   "metadata": {
    "collapsed": false,
    "urth": {
     "dashboard": {
      "layout": {}
     }
    }
   },
   "outputs": [
    {
     "data": {
      "text/html": [
       "<div>\n",
       "<table border=\"1\" class=\"dataframe\">\n",
       "  <thead>\n",
       "    <tr style=\"text-align: right;\">\n",
       "      <th></th>\n",
       "      <th>IncidntNum</th>\n",
       "      <th>Category</th>\n",
       "      <th>Descript</th>\n",
       "      <th>DayOfWeek</th>\n",
       "      <th>Date</th>\n",
       "      <th>Time</th>\n",
       "      <th>PdDistrict</th>\n",
       "      <th>Resolution</th>\n",
       "      <th>Address</th>\n",
       "      <th>X</th>\n",
       "      <th>Y</th>\n",
       "      <th>Location</th>\n",
       "      <th>PdId</th>\n",
       "    </tr>\n",
       "  </thead>\n",
       "  <tbody>\n",
       "    <tr>\n",
       "      <th>0</th>\n",
       "      <td>110223974</td>\n",
       "      <td>VEHICLE THEFT</td>\n",
       "      <td>STOLEN TRUCK</td>\n",
       "      <td>Friday</td>\n",
       "      <td>05/22/2015</td>\n",
       "      <td>18:45</td>\n",
       "      <td>TARAVAL</td>\n",
       "      <td>NONE</td>\n",
       "      <td>800 Block of TARAVAL ST</td>\n",
       "      <td>-122.475148</td>\n",
       "      <td>37.743129</td>\n",
       "      <td>(37.7431286289064, -122.475147755784)</td>\n",
       "      <td>11022397407025</td>\n",
       "    </tr>\n",
       "    <tr>\n",
       "      <th>1</th>\n",
       "      <td>110239385</td>\n",
       "      <td>SEX OFFENSES, FORCIBLE</td>\n",
       "      <td>CHILD ABUSE SEXUAL</td>\n",
       "      <td>Thursday</td>\n",
       "      <td>07/09/2015</td>\n",
       "      <td>13:50</td>\n",
       "      <td>NORTHERN</td>\n",
       "      <td>ARREST, BOOKED</td>\n",
       "      <td>400 Block of MCALLISTER ST</td>\n",
       "      <td>-122.419448</td>\n",
       "      <td>37.780209</td>\n",
       "      <td>(37.7802091894281, -122.419448185224)</td>\n",
       "      <td>11023938514015</td>\n",
       "    </tr>\n",
       "    <tr>\n",
       "      <th>2</th>\n",
       "      <td>110239385</td>\n",
       "      <td>ASSAULT</td>\n",
       "      <td>CHILD ABUSE (PHYSICAL)</td>\n",
       "      <td>Thursday</td>\n",
       "      <td>07/09/2015</td>\n",
       "      <td>13:50</td>\n",
       "      <td>NORTHERN</td>\n",
       "      <td>ARREST, BOOKED</td>\n",
       "      <td>400 Block of MCALLISTER ST</td>\n",
       "      <td>-122.419448</td>\n",
       "      <td>37.780209</td>\n",
       "      <td>(37.7802091894281, -122.419448185224)</td>\n",
       "      <td>11023938515015</td>\n",
       "    </tr>\n",
       "  </tbody>\n",
       "</table>\n",
       "</div>"
      ],
      "text/plain": [
       "   IncidntNum                Category                Descript DayOfWeek  \\\n",
       "0   110223974           VEHICLE THEFT            STOLEN TRUCK    Friday   \n",
       "1   110239385  SEX OFFENSES, FORCIBLE      CHILD ABUSE SEXUAL  Thursday   \n",
       "2   110239385                 ASSAULT  CHILD ABUSE (PHYSICAL)  Thursday   \n",
       "\n",
       "         Date   Time PdDistrict      Resolution                     Address  \\\n",
       "0  05/22/2015  18:45    TARAVAL            NONE     800 Block of TARAVAL ST   \n",
       "1  07/09/2015  13:50   NORTHERN  ARREST, BOOKED  400 Block of MCALLISTER ST   \n",
       "2  07/09/2015  13:50   NORTHERN  ARREST, BOOKED  400 Block of MCALLISTER ST   \n",
       "\n",
       "            X          Y                               Location  \\\n",
       "0 -122.475148  37.743129  (37.7431286289064, -122.475147755784)   \n",
       "1 -122.419448  37.780209  (37.7802091894281, -122.419448185224)   \n",
       "2 -122.419448  37.780209  (37.7802091894281, -122.419448185224)   \n",
       "\n",
       "             PdId  \n",
       "0  11022397407025  \n",
       "1  11023938514015  \n",
       "2  11023938515015  "
      ]
     },
     "execution_count": 4,
     "metadata": {},
     "output_type": "execute_result"
    }
   ],
   "source": [
    "full.head(3)"
   ]
  },
  {
   "cell_type": "code",
   "execution_count": 5,
   "metadata": {
    "collapsed": false,
    "urth": {
     "dashboard": {
      "layout": {}
     }
    }
   },
   "outputs": [
    {
     "name": "stdout",
     "output_type": "stream",
     "text": [
      "CPU times: user 14.5 s, sys: 270 ms, total: 14.8 s\n",
      "Wall time: 14.8 s\n"
     ]
    },
    {
     "data": {
      "text/plain": [
       "count                 1912913\n",
       "unique                 847457\n",
       "top       2011-01-01 00:01:00\n",
       "freq                      185\n",
       "first     2003-01-01 00:01:00\n",
       "last      2016-05-08 23:50:00\n",
       "Name: Dates, dtype: object"
      ]
     },
     "execution_count": 5,
     "metadata": {},
     "output_type": "execute_result"
    }
   ],
   "source": [
    "#let's transform our Date and time into a single datetime column\n",
    "%time full['Dates'] = pd.to_datetime(full.Date + ' ' + full.Time, format='%m/%d/%Y %H:%M')\n",
    "full.Dates.describe()"
   ]
  },
  {
   "cell_type": "code",
   "execution_count": 6,
   "metadata": {
    "collapsed": false,
    "urth": {
     "dashboard": {
      "layout": {}
     }
    }
   },
   "outputs": [
    {
     "data": {
      "text/plain": [
       "Index(['Category', 'DayOfWeek', 'PdDistrict', 'Resolution', 'Address', 'X',\n",
       "       'Y', 'Dates'],\n",
       "      dtype='object')"
      ]
     },
     "execution_count": 6,
     "metadata": {},
     "output_type": "execute_result"
    }
   ],
   "source": [
    "#now let's get rid of redundant columns\n",
    "full.drop(['Date','Time','PdId','Location','IncidntNum','Descript'],axis=1,inplace=True)\n",
    "full.columns"
   ]
  },
  {
   "cell_type": "code",
   "execution_count": 7,
   "metadata": {
    "collapsed": false,
    "urth": {
     "dashboard": {
      "layout": {}
     }
    }
   },
   "outputs": [
    {
     "data": {
      "text/html": [
       "<div>\n",
       "<table border=\"1\" class=\"dataframe\">\n",
       "  <thead>\n",
       "    <tr style=\"text-align: right;\">\n",
       "      <th></th>\n",
       "      <th>0</th>\n",
       "      <th>1</th>\n",
       "      <th>2</th>\n",
       "      <th>3</th>\n",
       "      <th>4</th>\n",
       "    </tr>\n",
       "  </thead>\n",
       "  <tbody>\n",
       "    <tr>\n",
       "      <th>Category</th>\n",
       "      <td>VEHICLE THEFT</td>\n",
       "      <td>SEX OFFENSES, FORCIBLE</td>\n",
       "      <td>ASSAULT</td>\n",
       "      <td>WARRANTS</td>\n",
       "      <td>NON-CRIMINAL</td>\n",
       "    </tr>\n",
       "    <tr>\n",
       "      <th>DayOfWeek</th>\n",
       "      <td>Friday</td>\n",
       "      <td>Thursday</td>\n",
       "      <td>Thursday</td>\n",
       "      <td>Thursday</td>\n",
       "      <td>Thursday</td>\n",
       "    </tr>\n",
       "    <tr>\n",
       "      <th>PdDistrict</th>\n",
       "      <td>TARAVAL</td>\n",
       "      <td>NORTHERN</td>\n",
       "      <td>NORTHERN</td>\n",
       "      <td>NORTHERN</td>\n",
       "      <td>NORTHERN</td>\n",
       "    </tr>\n",
       "    <tr>\n",
       "      <th>Resolution</th>\n",
       "      <td>NONE</td>\n",
       "      <td>ARREST, BOOKED</td>\n",
       "      <td>ARREST, BOOKED</td>\n",
       "      <td>ARREST, BOOKED</td>\n",
       "      <td>ARREST, BOOKED</td>\n",
       "    </tr>\n",
       "    <tr>\n",
       "      <th>Address</th>\n",
       "      <td>800 Block of TARAVAL ST</td>\n",
       "      <td>400 Block of MCALLISTER ST</td>\n",
       "      <td>400 Block of MCALLISTER ST</td>\n",
       "      <td>400 Block of MCALLISTER ST</td>\n",
       "      <td>400 Block of MCALLISTER ST</td>\n",
       "    </tr>\n",
       "    <tr>\n",
       "      <th>X</th>\n",
       "      <td>-122.475</td>\n",
       "      <td>-122.419</td>\n",
       "      <td>-122.419</td>\n",
       "      <td>-122.419</td>\n",
       "      <td>-122.419</td>\n",
       "    </tr>\n",
       "    <tr>\n",
       "      <th>Y</th>\n",
       "      <td>37.7431</td>\n",
       "      <td>37.7802</td>\n",
       "      <td>37.7802</td>\n",
       "      <td>37.7802</td>\n",
       "      <td>37.7802</td>\n",
       "    </tr>\n",
       "    <tr>\n",
       "      <th>Dates</th>\n",
       "      <td>2015-05-22 18:45:00</td>\n",
       "      <td>2015-07-09 13:50:00</td>\n",
       "      <td>2015-07-09 13:50:00</td>\n",
       "      <td>2015-07-09 13:50:00</td>\n",
       "      <td>2015-07-09 13:50:00</td>\n",
       "    </tr>\n",
       "  </tbody>\n",
       "</table>\n",
       "</div>"
      ],
      "text/plain": [
       "                                  0                           1  \\\n",
       "Category              VEHICLE THEFT      SEX OFFENSES, FORCIBLE   \n",
       "DayOfWeek                    Friday                    Thursday   \n",
       "PdDistrict                  TARAVAL                    NORTHERN   \n",
       "Resolution                     NONE              ARREST, BOOKED   \n",
       "Address     800 Block of TARAVAL ST  400 Block of MCALLISTER ST   \n",
       "X                          -122.475                    -122.419   \n",
       "Y                           37.7431                     37.7802   \n",
       "Dates           2015-05-22 18:45:00         2015-07-09 13:50:00   \n",
       "\n",
       "                                     2                           3  \\\n",
       "Category                       ASSAULT                    WARRANTS   \n",
       "DayOfWeek                     Thursday                    Thursday   \n",
       "PdDistrict                    NORTHERN                    NORTHERN   \n",
       "Resolution              ARREST, BOOKED              ARREST, BOOKED   \n",
       "Address     400 Block of MCALLISTER ST  400 Block of MCALLISTER ST   \n",
       "X                             -122.419                    -122.419   \n",
       "Y                              37.7802                     37.7802   \n",
       "Dates              2015-07-09 13:50:00         2015-07-09 13:50:00   \n",
       "\n",
       "                                     4  \n",
       "Category                  NON-CRIMINAL  \n",
       "DayOfWeek                     Thursday  \n",
       "PdDistrict                    NORTHERN  \n",
       "Resolution              ARREST, BOOKED  \n",
       "Address     400 Block of MCALLISTER ST  \n",
       "X                             -122.419  \n",
       "Y                              37.7802  \n",
       "Dates              2015-07-09 13:50:00  "
      ]
     },
     "execution_count": 7,
     "metadata": {},
     "output_type": "execute_result"
    }
   ],
   "source": [
    "#now let's look again\n",
    "full.head().T"
   ]
  },
  {
   "cell_type": "code",
   "execution_count": 8,
   "metadata": {
    "collapsed": false,
    "urth": {
     "dashboard": {
      "layout": {}
     }
    }
   },
   "outputs": [
    {
     "data": {
      "text/html": [
       "<div>\n",
       "<table border=\"1\" class=\"dataframe\">\n",
       "  <thead>\n",
       "    <tr style=\"text-align: right;\">\n",
       "      <th></th>\n",
       "      <th>Category</th>\n",
       "      <th>DayOfWeek</th>\n",
       "      <th>PdDistrict</th>\n",
       "      <th>Resolution</th>\n",
       "      <th>Address</th>\n",
       "      <th>X</th>\n",
       "      <th>Y</th>\n",
       "      <th>Dates</th>\n",
       "    </tr>\n",
       "  </thead>\n",
       "  <tbody>\n",
       "    <tr>\n",
       "      <th>count</th>\n",
       "      <td>1912913</td>\n",
       "      <td>1912913</td>\n",
       "      <td>1912912</td>\n",
       "      <td>1912913</td>\n",
       "      <td>1912913</td>\n",
       "      <td>1.912913e+06</td>\n",
       "      <td>1.912913e+06</td>\n",
       "      <td>1912913</td>\n",
       "    </tr>\n",
       "    <tr>\n",
       "      <th>unique</th>\n",
       "      <td>39</td>\n",
       "      <td>7</td>\n",
       "      <td>10</td>\n",
       "      <td>17</td>\n",
       "      <td>24922</td>\n",
       "      <td>NaN</td>\n",
       "      <td>NaN</td>\n",
       "      <td>847457</td>\n",
       "    </tr>\n",
       "    <tr>\n",
       "      <th>top</th>\n",
       "      <td>LARCENY/THEFT</td>\n",
       "      <td>Friday</td>\n",
       "      <td>SOUTHERN</td>\n",
       "      <td>NONE</td>\n",
       "      <td>800 Block of BRYANT ST</td>\n",
       "      <td>NaN</td>\n",
       "      <td>NaN</td>\n",
       "      <td>2011-01-01 00:01:00</td>\n",
       "    </tr>\n",
       "    <tr>\n",
       "      <th>freq</th>\n",
       "      <td>391324</td>\n",
       "      <td>291681</td>\n",
       "      <td>343586</td>\n",
       "      <td>1164955</td>\n",
       "      <td>57082</td>\n",
       "      <td>NaN</td>\n",
       "      <td>NaN</td>\n",
       "      <td>185</td>\n",
       "    </tr>\n",
       "    <tr>\n",
       "      <th>first</th>\n",
       "      <td>NaN</td>\n",
       "      <td>NaN</td>\n",
       "      <td>NaN</td>\n",
       "      <td>NaN</td>\n",
       "      <td>NaN</td>\n",
       "      <td>NaN</td>\n",
       "      <td>NaN</td>\n",
       "      <td>2003-01-01 00:01:00</td>\n",
       "    </tr>\n",
       "    <tr>\n",
       "      <th>last</th>\n",
       "      <td>NaN</td>\n",
       "      <td>NaN</td>\n",
       "      <td>NaN</td>\n",
       "      <td>NaN</td>\n",
       "      <td>NaN</td>\n",
       "      <td>NaN</td>\n",
       "      <td>NaN</td>\n",
       "      <td>2016-05-08 23:50:00</td>\n",
       "    </tr>\n",
       "    <tr>\n",
       "      <th>mean</th>\n",
       "      <td>NaN</td>\n",
       "      <td>NaN</td>\n",
       "      <td>NaN</td>\n",
       "      <td>NaN</td>\n",
       "      <td>NaN</td>\n",
       "      <td>-1.224227e+02</td>\n",
       "      <td>3.777104e+01</td>\n",
       "      <td>NaN</td>\n",
       "    </tr>\n",
       "    <tr>\n",
       "      <th>std</th>\n",
       "      <td>NaN</td>\n",
       "      <td>NaN</td>\n",
       "      <td>NaN</td>\n",
       "      <td>NaN</td>\n",
       "      <td>NaN</td>\n",
       "      <td>3.034884e-02</td>\n",
       "      <td>4.522396e-01</td>\n",
       "      <td>NaN</td>\n",
       "    </tr>\n",
       "    <tr>\n",
       "      <th>min</th>\n",
       "      <td>NaN</td>\n",
       "      <td>NaN</td>\n",
       "      <td>NaN</td>\n",
       "      <td>NaN</td>\n",
       "      <td>NaN</td>\n",
       "      <td>-1.225136e+02</td>\n",
       "      <td>3.770788e+01</td>\n",
       "      <td>NaN</td>\n",
       "    </tr>\n",
       "    <tr>\n",
       "      <th>25%</th>\n",
       "      <td>NaN</td>\n",
       "      <td>NaN</td>\n",
       "      <td>NaN</td>\n",
       "      <td>NaN</td>\n",
       "      <td>NaN</td>\n",
       "      <td>-1.224331e+02</td>\n",
       "      <td>3.775255e+01</td>\n",
       "      <td>NaN</td>\n",
       "    </tr>\n",
       "    <tr>\n",
       "      <th>50%</th>\n",
       "      <td>NaN</td>\n",
       "      <td>NaN</td>\n",
       "      <td>NaN</td>\n",
       "      <td>NaN</td>\n",
       "      <td>NaN</td>\n",
       "      <td>-1.224165e+02</td>\n",
       "      <td>3.777542e+01</td>\n",
       "      <td>NaN</td>\n",
       "    </tr>\n",
       "    <tr>\n",
       "      <th>75%</th>\n",
       "      <td>NaN</td>\n",
       "      <td>NaN</td>\n",
       "      <td>NaN</td>\n",
       "      <td>NaN</td>\n",
       "      <td>NaN</td>\n",
       "      <td>-1.224069e+02</td>\n",
       "      <td>3.778440e+01</td>\n",
       "      <td>NaN</td>\n",
       "    </tr>\n",
       "    <tr>\n",
       "      <th>max</th>\n",
       "      <td>NaN</td>\n",
       "      <td>NaN</td>\n",
       "      <td>NaN</td>\n",
       "      <td>NaN</td>\n",
       "      <td>NaN</td>\n",
       "      <td>-1.205000e+02</td>\n",
       "      <td>9.000000e+01</td>\n",
       "      <td>NaN</td>\n",
       "    </tr>\n",
       "  </tbody>\n",
       "</table>\n",
       "</div>"
      ],
      "text/plain": [
       "             Category DayOfWeek PdDistrict Resolution                 Address  \\\n",
       "count         1912913   1912913    1912912    1912913                 1912913   \n",
       "unique             39         7         10         17                   24922   \n",
       "top     LARCENY/THEFT    Friday   SOUTHERN       NONE  800 Block of BRYANT ST   \n",
       "freq           391324    291681     343586    1164955                   57082   \n",
       "first             NaN       NaN        NaN        NaN                     NaN   \n",
       "last              NaN       NaN        NaN        NaN                     NaN   \n",
       "mean              NaN       NaN        NaN        NaN                     NaN   \n",
       "std               NaN       NaN        NaN        NaN                     NaN   \n",
       "min               NaN       NaN        NaN        NaN                     NaN   \n",
       "25%               NaN       NaN        NaN        NaN                     NaN   \n",
       "50%               NaN       NaN        NaN        NaN                     NaN   \n",
       "75%               NaN       NaN        NaN        NaN                     NaN   \n",
       "max               NaN       NaN        NaN        NaN                     NaN   \n",
       "\n",
       "                   X             Y                Dates  \n",
       "count   1.912913e+06  1.912913e+06              1912913  \n",
       "unique           NaN           NaN               847457  \n",
       "top              NaN           NaN  2011-01-01 00:01:00  \n",
       "freq             NaN           NaN                  185  \n",
       "first            NaN           NaN  2003-01-01 00:01:00  \n",
       "last             NaN           NaN  2016-05-08 23:50:00  \n",
       "mean   -1.224227e+02  3.777104e+01                  NaN  \n",
       "std     3.034884e-02  4.522396e-01                  NaN  \n",
       "min    -1.225136e+02  3.770788e+01                  NaN  \n",
       "25%    -1.224331e+02  3.775255e+01                  NaN  \n",
       "50%    -1.224165e+02  3.777542e+01                  NaN  \n",
       "75%    -1.224069e+02  3.778440e+01                  NaN  \n",
       "max    -1.205000e+02  9.000000e+01                  NaN  "
      ]
     },
     "execution_count": 8,
     "metadata": {},
     "output_type": "execute_result"
    }
   ],
   "source": [
    "full.describe(include='all')"
   ]
  },
  {
   "cell_type": "code",
   "execution_count": 36,
   "metadata": {
    "collapsed": false,
    "urth": {
     "dashboard": {
      "hidden": true,
      "layout": {}
     }
    }
   },
   "outputs": [],
   "source": [
    "from IPython.display import display\n",
    "from ipywidgets import interact, Button, Text,VBox,Box,HBox\n",
    "txt = Text(value='Hi')\n",
    "btns = [Button(description=\"btn#%d\"%i) for i in range(5)]\n",
    "hbox = HBox(btns)\n",
    "vbox = VBox([hbox,txt])\n",
    "display(vbox,)\n"
   ]
  },
  {
   "cell_type": "code",
   "execution_count": null,
   "metadata": {
    "collapsed": true
   },
   "outputs": [],
   "source": []
  }
 ],
 "metadata": {
  "kernelspec": {
   "display_name": "Python 3",
   "language": "python",
   "name": "python3"
  },
  "language_info": {
   "codemirror_mode": {
    "name": "ipython",
    "version": 3
   },
   "file_extension": ".py",
   "mimetype": "text/x-python",
   "name": "python",
   "nbconvert_exporter": "python",
   "pygments_lexer": "ipython3",
   "version": "3.5.1"
  },
  "urth": {
   "dashboard": {
    "layout": "report"
   }
  },
  "widgets": {
   "state": {
    "00ec5bff4a2d45499ca54056580b1e66": {
     "views": []
    },
    "0350444207af4aa2b81846a9c4041009": {
     "views": []
    },
    "0387b15d78f34e159da10274ac9a9626": {
     "views": []
    },
    "07338b1a9d80498bba1a75444b3198f3": {
     "views": []
    },
    "07bc0fde984246e3ac1b9e8c1d0df9de": {
     "views": [
      {
       "cell_index": 9
      }
     ]
    },
    "08b142e5fbd9491e9e77b8890b60dae0": {
     "views": []
    },
    "08bc46794c3941188345507026e1a366": {
     "views": []
    },
    "0d02ed7a6314461f916ea3f6f0dbe0e0": {
     "views": []
    },
    "0ddda87416ef43bc960d16fa13a7eaf8": {
     "views": []
    },
    "111046e63fdb4faf9da61a9cb793a681": {
     "views": []
    },
    "13e9f5c924b245e6bfa0e8f4c4bd4398": {
     "views": []
    },
    "168ab780a34945c7997afe10988a7ffa": {
     "views": []
    },
    "17115e0e0c3848068bd4cacedf7bfb8d": {
     "views": []
    },
    "18f61682b5994a27a4c2ebd14c625d84": {
     "views": []
    },
    "1920bd08b0d647d5b3a00d295415c68a": {
     "views": []
    },
    "1aa1e1de433a4675b3fd105f122f14e7": {
     "views": []
    },
    "1cff43dc293d4823bfb24faaf074f7c1": {
     "views": []
    },
    "1eb59f28710949ec9478d958c8e7e350": {
     "views": []
    },
    "23c3cf4751a344afac244dff7b9001a1": {
     "views": []
    },
    "24bdaff5e7c341ffa556dbf36c84b70d": {
     "views": []
    },
    "257b2e5db09d4647930823c18c57fe31": {
     "views": []
    },
    "2a05e0b60b134e9da57928455c5999b4": {
     "views": []
    },
    "2b354771fe254cb29e4ec8aaf53f64f2": {
     "views": []
    },
    "2b57ee4616ad477f8a17ad4d383244f9": {
     "views": [
      {
       "cell_index": 9
      }
     ]
    },
    "2beefed88ed74de89b4c93f0e7a77dc6": {
     "views": []
    },
    "2c0e75fe20b4460191afda1cab2637ba": {
     "views": []
    },
    "2c8bba4fe1f74bf7bfbc832bc60003ba": {
     "views": []
    },
    "2dccedbd18454555989a0ef48c42c012": {
     "views": []
    },
    "2e79b70dc2a24190bf7872e63e086ad8": {
     "views": []
    },
    "33090dba0de44a4f83571d6301401c5a": {
     "views": []
    },
    "3593c73d647c4f5d9410bf179a0fbe57": {
     "views": []
    },
    "373149fe950941e38d8aa05733b25d01": {
     "views": [
      {
       "cell_index": 9
      }
     ]
    },
    "399161b210cb4a07aa397f392244ed1e": {
     "views": []
    },
    "3a8cc52637a84762b520b422d889cf15": {
     "views": [
      {
       "cell_index": 9
      }
     ]
    },
    "3c67d8b75e38474c96a50ffbce0c7527": {
     "views": [
      {
       "cell_index": 9
      }
     ]
    },
    "3e1ec9e099fc45ffa206155f2a9c14b5": {
     "views": [
      {
       "cell_index": 9
      }
     ]
    },
    "405a5562cc3c44f2a35e7100f6e1f044": {
     "views": []
    },
    "421de54586b7402ea8c65ecf48a28e21": {
     "views": []
    },
    "4405862da1714ccf8576a2d21332d683": {
     "views": []
    },
    "48c8dc102a5e4096aeb6a0c1bd730222": {
     "views": []
    },
    "4b0b2de8cadb4b09a46038ff608b1168": {
     "views": []
    },
    "5138cdfad83d488aa3fd915404bfb6c6": {
     "views": []
    },
    "513fee58426b496abc5ca1ff015daa8e": {
     "views": []
    },
    "530fa7cc2dd54940a9c79d5402836884": {
     "views": []
    },
    "536c40b129e64fed8e2c52925ccaf2b1": {
     "views": []
    },
    "55e3845ad4764b39b58606cc868332e4": {
     "views": []
    },
    "56b07aa5f24e42d1850a65410225ff10": {
     "views": []
    },
    "577458e2d17d470ab11d3af3cceb31a4": {
     "views": []
    },
    "57cbd50a0f8f4ffd916d047d09cf33fb": {
     "views": []
    },
    "5b326752f95f42a1a259e56adf6c3182": {
     "views": []
    },
    "5c693dfd741449baa262bad587169e0b": {
     "views": []
    },
    "5d6fe7456acd47918d36e69ab7ccc9aa": {
     "views": []
    },
    "5d9c29b41cea4404b2b77821eccb0916": {
     "views": []
    },
    "659f3e772e6a468ca2bf695f05418b68": {
     "views": []
    },
    "685574b30a9c4aa5807de8e32ffd32c7": {
     "views": []
    },
    "68d85b12722342dfbc22ae14e4f04f08": {
     "views": []
    },
    "6aba53cc40ca47b18dc1ceba2a268d44": {
     "views": []
    },
    "6c0605fb81844e3bb265f4593e041985": {
     "views": []
    },
    "6f72eb6e7f9f461dab75935879b7b21b": {
     "views": []
    },
    "6f736fc776ea4b208ed312ef2b449719": {
     "views": []
    },
    "7433dad414264cb3b8e5f7b37d00c0b9": {
     "views": []
    },
    "76b1d83bc91a46e0a3f43ee025328489": {
     "views": []
    },
    "775c2e1469874e0196aab4311bd927f8": {
     "views": []
    },
    "77b09821ca424bcba96a4b4e5dd48b06": {
     "views": []
    },
    "7ad779df9521459d9772167a50a4acfd": {
     "views": []
    },
    "7cc95920a7c24e649785f9727cd3c442": {
     "views": []
    },
    "7deacd96be5d4b2da50a9643b616fd7e": {
     "views": []
    },
    "8126596c21ca4fbf8eec9ae6187e12e1": {
     "views": []
    },
    "83bbc2fc539e4f2781ffc8aa37679239": {
     "views": []
    },
    "8789e50b8e6f4b268ab5bef9e378f28c": {
     "views": []
    },
    "887cc3309c4d4698bc85b2aa78a593ca": {
     "views": [
      {
       "cell_index": 9
      }
     ]
    },
    "8f00736808964edbab8a1eb5c7dd372a": {
     "views": [
      {
       "cell_index": 9
      }
     ]
    },
    "9155e1626eb84bc5a602fc328e835a49": {
     "views": []
    },
    "93a0626c79ff4cd788deb56b636cf989": {
     "views": []
    },
    "9764d4e2310e4f87bb035a56f8f2f1ec": {
     "views": [
      {
       "cell_index": 9
      }
     ]
    },
    "99bccbbfb40942b4baf47c5465056d6e": {
     "views": []
    },
    "9ac754a1a36349b790ba9d7e76672a6a": {
     "views": []
    },
    "9b928f5f98404b918f724dce30b242d0": {
     "views": []
    },
    "9bbc95dcadf643bf90884c76eddc6e12": {
     "views": []
    },
    "9ec7cd91f1ba4405b76b2b790e0af459": {
     "views": []
    },
    "9f08d36bc82f4a61945147370aef8b72": {
     "views": []
    },
    "9fbbbb1241bd41ad9bab1274d8cf244f": {
     "views": []
    },
    "a2f266c3c1a24e978fa3afc12abab81c": {
     "views": []
    },
    "a32a636617bf4203a625615b530a4891": {
     "views": [
      {
       "cell_index": 9
      }
     ]
    },
    "a48d336128414582986e2c022c0536d2": {
     "views": []
    },
    "a4ced4d6fe1d4a85922b501276145af6": {
     "views": []
    },
    "a4db8f580a714bb2a0998a65f920cd02": {
     "views": []
    },
    "a75649d9a1ce491f84fa0f221ad481ad": {
     "views": []
    },
    "a9f282f1fbe04c3287c03c6ad6d4f6ba": {
     "views": []
    },
    "ac5a50f55a7443b8b4e4c9be51ebc74b": {
     "views": []
    },
    "af84b04d6d024be880904bdcfbada3f4": {
     "views": []
    },
    "b077f8e8bbca48cc94636dd3fb1b0beb": {
     "views": []
    },
    "b08f99c46632404b9c9f75db9f1f54c5": {
     "views": []
    },
    "b1b0f279d036452f98c0069fc2ec5828": {
     "views": []
    },
    "b2eedb517c244b33a7483826da156e29": {
     "views": []
    },
    "b7e09c0a1de54deab62b68579cd7dac4": {
     "views": []
    },
    "badbd1f7322f4aa28cfe9e4dd3c50681": {
     "views": []
    },
    "bb9c863682004228b8ba5b9592087194": {
     "views": []
    },
    "bd0da2f7373547f1bff748638fa1e090": {
     "views": []
    },
    "bdd29f50bf2e44dcaf3ba48debbd3b50": {
     "views": []
    },
    "bef682e2eb7c4945998b1b4ee3d68976": {
     "views": []
    },
    "c68da2769ec5429d868a6cafd166182e": {
     "views": []
    },
    "c6a2ecff29a54b9884aeb4ec106cb6d3": {
     "views": []
    },
    "c6e683f207684cbbb553f3c4a1806f99": {
     "views": []
    },
    "c7707ffe65354fabbcc1a5fe72cee6f3": {
     "views": []
    },
    "c8e05ec579104082a014fea031f10181": {
     "views": []
    },
    "c97204f58eb740d7a79aec735d5458fe": {
     "views": []
    },
    "c981497deb5645d2bd791014f85ab50d": {
     "views": []
    },
    "caaae149e7fe4f58a94c1a044234ebf2": {
     "views": []
    },
    "d26db390b1104fbf9705304e643b3cce": {
     "views": []
    },
    "d377c9c091294b679874402976fa94fa": {
     "views": [
      {
       "cell_index": 9
      }
     ]
    },
    "d3c76ce460114e928c95bd3ace4b7f5d": {
     "views": []
    },
    "d53573b619cf417a8485d5b3bf7b498c": {
     "views": []
    },
    "d5736361988d4283aefa1a843dff009d": {
     "views": []
    },
    "d59ac4ee81c84c9dbdc1cd6db5172aeb": {
     "views": []
    },
    "d97f9ae232664742961049956ec60758": {
     "views": []
    },
    "e10af1d7262842f58cb0da74a8f7d370": {
     "views": []
    },
    "e274618a28044a99b57e71ba400ebcec": {
     "views": []
    },
    "e2b75ca210ad46d9b182cf5a29a8b611": {
     "views": []
    },
    "e6d598d7b56c4bafa1372b9ffc3156f6": {
     "views": [
      {
       "cell_index": 9
      }
     ]
    },
    "e72ebd2dea5448e9bed27e2daf770fd5": {
     "views": []
    },
    "e8e0a140ecce4934b2b6644d2924e007": {
     "views": []
    },
    "eccb0ccbf9fe404c89b55ca11f86ff38": {
     "views": []
    },
    "f04c57e404a94d52be24bac2bc1f7bfe": {
     "views": [
      {
       "cell_index": 9
      }
     ]
    },
    "f1960c9fcdd24f698130bfb7d7c9b687": {
     "views": []
    },
    "f2e764ec60a240c2836391c8656ac25c": {
     "views": []
    },
    "f444fe18ed0c4e2da5d50d4cf6ba54f6": {
     "views": []
    },
    "f482dc05718648479a7eff64acae7e70": {
     "views": []
    }
   },
   "version": "1.1.1"
  }
 },
 "nbformat": 4,
 "nbformat_minor": 0
}
